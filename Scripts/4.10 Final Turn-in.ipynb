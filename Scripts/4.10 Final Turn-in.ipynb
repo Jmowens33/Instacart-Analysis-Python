{
 "cells": [
  {
   "cell_type": "markdown",
   "id": "91535603-e3b4-4370-b31e-85ea9f4354c6",
   "metadata": {},
   "source": [
    "## Table of Contents\n",
    "### Importing Libraries and Data\n",
    "### Data Security Check\n",
    "### Spending Habits by Region\n",
    "#### &emsp; Creating the 'region' column\n",
    "#### &emsp; Comparing 'region' and 'spending_flag'\n",
    "### Excluding Low-Activity Customers\n",
    "#### &emsp; Creating the 'exculsion_flag' column\n",
    "#### &emsp; Creating the sample\n",
    "#### Exporting the sample\n",
    "### Profiling Customers\n",
    "#### &emsp; Age\n",
    "#### &emsp; Income\n",
    "#### &emsp; Department\n",
    "#### &emsp; Family Status\n",
    "### Profile Visualizations\n",
    "### Profile Aggregation\n",
    "### Customer Profiles by Region and Department\n",
    "### Visualizations for Results\n",
    "### Exporting as orders_products_final.pkl"
   ]
  },
  {
   "cell_type": "markdown",
   "id": "6acaeae1-6aa3-4420-a7d3-204ab095c19f",
   "metadata": {},
   "source": [
    "### Step 1 Importing"
   ]
  },
  {
   "cell_type": "code",
   "execution_count": 6,
   "id": "b8b38f5d-5eaf-48ab-8126-884450d16acd",
   "metadata": {},
   "outputs": [],
   "source": [
    "# Importing libraries and data set\n",
    "\n",
    "import pandas as pd\n",
    "import numpy as np\n",
    "import os\n",
    "import matplotlib.pyplot as plt\n",
    "import seaborn as sns\n",
    "import scipy"
   ]
  },
  {
   "cell_type": "code",
   "execution_count": 7,
   "id": "8935ad44-5bc8-4aa9-9cbc-80228a679b55",
   "metadata": {},
   "outputs": [],
   "source": [
    "path = r'C:\\Users\\jmowe\\OneDrive\\5-9-2023 Instacart Basket Analysis'"
   ]
  },
  {
   "cell_type": "code",
   "execution_count": 8,
   "id": "a6c6ff65-d791-461f-9c6e-7c15353faaab",
   "metadata": {},
   "outputs": [],
   "source": [
    "df = pd.read_pickle(os.path.join(path, '02 Data', 'Prepared Data', 'df_combined.pkl'))"
   ]
  },
  {
   "cell_type": "code",
   "execution_count": 4,
   "id": "a297cc0e-bd4f-4f28-a851-1ef2ebf28b6f",
   "metadata": {},
   "outputs": [],
   "source": [
    "df.loc[df['prices'] >100, 'prices'] = np.nan"
   ]
  },
  {
   "cell_type": "code",
   "execution_count": 5,
   "id": "90c04d2e-cd42-4705-971d-8a0bc86e7886",
   "metadata": {},
   "outputs": [
    {
     "data": {
      "text/plain": [
       "(32404859, 32)"
      ]
     },
     "execution_count": 5,
     "metadata": {},
     "output_type": "execute_result"
    }
   ],
   "source": [
    "df.shape"
   ]
  },
  {
   "cell_type": "code",
   "execution_count": 6,
   "id": "d4b7f038-b404-47db-8004-18f1cdb79e36",
   "metadata": {},
   "outputs": [
    {
     "name": "stdout",
     "output_type": "stream",
     "text": [
      "Index(['order_id', 'user_id', 'order_number', 'order_day_of_week',\n",
      "       'order_hour_of_day', 'days_since_prior_order', 'product_id',\n",
      "       'add_to_cart_order', 'reordered', 'product_name', 'aisle_id',\n",
      "       'department_id', 'prices', '_merge', 'busiest_day', 'busiest_days',\n",
      "       'busiest_period_of_day', 'max_order', 'loyalty_flag', 'avg_price',\n",
      "       'spending_flag', 'median_freq', 'order_freq_flag', 'First Name',\n",
      "       'Last Name', 'Gender', 'STATE', 'Age', 'date_joined',\n",
      "       'Number of Dependants', 'Marital Status', 'income', 'region',\n",
      "       'low_activity_flag', 'age_profile', 'income_profile', 'vegan_profile',\n",
      "       'variety_profile', 'family_profile'],\n",
      "      dtype='object')\n"
     ]
    }
   ],
   "source": [
    "columns = df.columns\n",
    "print(columns)"
   ]
  },
  {
   "cell_type": "markdown",
   "id": "d9c77ed2-4b7b-49d4-af69-42a381649966",
   "metadata": {},
   "source": [
    "### Step 2 Addressing PII concerns"
   ]
  },
  {
   "cell_type": "code",
   "execution_count": 6,
   "id": "5a08711e-9143-4b04-ad7b-a564931e7a7f",
   "metadata": {},
   "outputs": [],
   "source": [
    "# It is stated in this exercise that all names and prices are fabricated for this dataset and project. No PII concerns are likely since all given names are fake.\n",
    "# If they were not fake, we could delete the first and last name columns when moving forward after confirming it with a supervisor."
   ]
  },
  {
   "cell_type": "markdown",
   "id": "85a597bf-d470-454e-b490-ab22b256fe2f",
   "metadata": {},
   "source": [
    "### Step 3 Comparing customer behavior in different geographic areas"
   ]
  },
  {
   "cell_type": "code",
   "execution_count": 18,
   "id": "39ebef45-cfc8-480c-9cd2-788aabff52ea",
   "metadata": {},
   "outputs": [],
   "source": [
    "# Creating a 'Region' column by seperating 'state' value into region buckets\n",
    "\n",
    "northeast = ['Maine', 'New Hampshire', 'Vermont', 'Massachusetts', 'Rhode Island', 'Connecticut', 'New York', 'Pennsylvania', 'New Jersey']\n",
    "midwest = ['Wisconsin', 'Michigan', 'Illinois', 'Indiana', 'Ohio', 'North Dakota', 'South Dakota', 'Nebraska', 'Kansas', 'Minnesota', 'Iowa', 'Missouri']\n",
    "south = ['Delaware', 'Maryland', 'District of Columbia', 'Virginia', 'West Virginia', 'North Carolina', 'South Carolina', 'Georgia', 'Florida', 'Kentucky', 'Tennessee', 'Mississippi', 'Alabama', 'Oklahoma', 'Texas', 'Arkansas', 'Louisiana']\n",
    "west = ['Idaho', 'Montana', 'Wyoming', 'Nevada', 'Utah', 'Colorado', 'Arizona', 'New Mexico', 'Alaska', 'Washington', 'Oregon', 'California', 'Hawaii']"
   ]
  },
  {
   "cell_type": "code",
   "execution_count": 19,
   "id": "0bfdac2e-4836-4c34-8a16-2c9ab676dd67",
   "metadata": {},
   "outputs": [],
   "source": [
    "# Use the loc function to follow through\n",
    "\n",
    "df.loc[df['STATE'].isin(northeast), 'region'] = 'Northeast'\n",
    "df.loc[df['STATE'].isin(midwest), 'region'] = 'Midwest'\n",
    "df.loc[df['STATE'].isin(south), 'region'] = 'South'\n",
    "df.loc[df['STATE'].isin(west), 'region'] = 'West'"
   ]
  },
  {
   "cell_type": "code",
   "execution_count": 20,
   "id": "51e7f054-fa74-47b5-8c28-7b93354492f5",
   "metadata": {},
   "outputs": [
    {
     "data": {
      "text/plain": [
       "South        10791885\n",
       "West          8292913\n",
       "Midwest       7597325\n",
       "Northeast     5722736\n",
       "Name: region, dtype: int64"
      ]
     },
     "execution_count": 20,
     "metadata": {},
     "output_type": "execute_result"
    }
   ],
   "source": [
    "df['region'].value_counts(dropna = False)"
   ]
  },
  {
   "cell_type": "code",
   "execution_count": 31,
   "id": "b78de98e-1668-458e-9f62-f5e657074b21",
   "metadata": {},
   "outputs": [],
   "source": [
    "# Creating a cross table for regions and spending variables\n",
    "\n",
    "crosstab_region_spending = pd.crosstab(df['region'], df['spending_flag'], dropna = False)"
   ]
  },
  {
   "cell_type": "code",
   "execution_count": 32,
   "id": "6a31d306-8813-4e38-9a04-c742c2dc6dc2",
   "metadata": {},
   "outputs": [
    {
     "data": {
      "text/html": [
       "<div>\n",
       "<style scoped>\n",
       "    .dataframe tbody tr th:only-of-type {\n",
       "        vertical-align: middle;\n",
       "    }\n",
       "\n",
       "    .dataframe tbody tr th {\n",
       "        vertical-align: top;\n",
       "    }\n",
       "\n",
       "    .dataframe thead th {\n",
       "        text-align: right;\n",
       "    }\n",
       "</style>\n",
       "<table border=\"1\" class=\"dataframe\">\n",
       "  <thead>\n",
       "    <tr style=\"text-align: right;\">\n",
       "      <th>spending_flag</th>\n",
       "      <th>High spender</th>\n",
       "      <th>Low spender</th>\n",
       "    </tr>\n",
       "    <tr>\n",
       "      <th>region</th>\n",
       "      <th></th>\n",
       "      <th></th>\n",
       "    </tr>\n",
       "  </thead>\n",
       "  <tbody>\n",
       "    <tr>\n",
       "      <th>Midwest</th>\n",
       "      <td>155975</td>\n",
       "      <td>7441350</td>\n",
       "    </tr>\n",
       "    <tr>\n",
       "      <th>Northeast</th>\n",
       "      <td>108225</td>\n",
       "      <td>5614511</td>\n",
       "    </tr>\n",
       "    <tr>\n",
       "      <th>South</th>\n",
       "      <td>209691</td>\n",
       "      <td>10582194</td>\n",
       "    </tr>\n",
       "    <tr>\n",
       "      <th>West</th>\n",
       "      <td>160354</td>\n",
       "      <td>8132559</td>\n",
       "    </tr>\n",
       "  </tbody>\n",
       "</table>\n",
       "</div>"
      ],
      "text/plain": [
       "spending_flag  High spender  Low spender\n",
       "region                                  \n",
       "Midwest              155975      7441350\n",
       "Northeast            108225      5614511\n",
       "South                209691     10582194\n",
       "West                 160354      8132559"
      ]
     },
     "execution_count": 32,
     "metadata": {},
     "output_type": "execute_result"
    }
   ],
   "source": [
    "crosstab_region_spending"
   ]
  },
  {
   "cell_type": "code",
   "execution_count": 12,
   "id": "5d2a69c9-32d1-40cf-a37a-41b7b5c51b7b",
   "metadata": {},
   "outputs": [],
   "source": [
    "# The most significant difference in regions is the number of spenders in the South. If instacart wanted to make a targetd campaign, this data points towards the South\n",
    "# and west regions as being most opportune."
   ]
  },
  {
   "cell_type": "code",
   "execution_count": 36,
   "id": "1d7598c0-d6c6-44d5-876b-017234306a6f",
   "metadata": {},
   "outputs": [
    {
     "data": {
      "image/png": "[encoded data removed]",
      "text/plain": [
       "<Figure size 640x480 with 1 Axes>"
      ]
     },
     "metadata": {},
     "output_type": "display_data"
    }
   ],
   "source": [
    "#Graphing the crosstab region\n",
    "crosstab_region_spending.plot(kind='bar')\n",
    "plt.show()"
   ]
  },
  {
   "cell_type": "code",
   "execution_count": 28,
   "id": "8b30647d-1e58-437e-bc73-62079bc34096",
   "metadata": {},
   "outputs": [
    {
     "ename": "NameError",
     "evalue": "name 'crosstab_region_spending_bar' is not defined",
     "output_type": "error",
     "traceback": [
      "\u001b[1;31m---------------------------------------------------------------------------\u001b[0m",
      "\u001b[1;31mNameError\u001b[0m                                 Traceback (most recent call last)",
      "Cell \u001b[1;32mIn[28], line 3\u001b[0m\n\u001b[0;32m      1\u001b[0m \u001b[38;5;66;03m#Exporting the crosstab region\u001b[39;00m\n\u001b[1;32m----> 3\u001b[0m \u001b[43mcrosstab_region_spending_bar\u001b[49m\u001b[38;5;241m.\u001b[39mfigure\u001b[38;5;241m.\u001b[39msavefig(os\u001b[38;5;241m.\u001b[39mpath\u001b[38;5;241m.\u001b[39mjoin(path, \u001b[38;5;124m'\u001b[39m\u001b[38;5;124m04 Analysis\u001b[39m\u001b[38;5;124m'\u001b[39m, \u001b[38;5;124m'\u001b[39m\u001b[38;5;124mVisualizations\u001b[39m\u001b[38;5;124m'\u001b[39m, \u001b[38;5;124m'\u001b[39m\u001b[38;5;124mregion_spending.png\u001b[39m\u001b[38;5;124m'\u001b[39m))\n",
      "\u001b[1;31mNameError\u001b[0m: name 'crosstab_region_spending_bar' is not defined"
     ]
    }
   ],
   "source": [
    "#Exporting the crosstab region\n",
    "\n",
    "crosstab_region_spending_bar.figure.savefig(os.path.join(path, '04 Analysis', 'Visualizations', 'region_spending.png'))\n"
   ]
  },
  {
   "cell_type": "markdown",
   "id": "ea176a50-c846-4176-8fc7-bb703d1d70fb",
   "metadata": {},
   "source": [
    "### Step 4 Excluding low-activity customers"
   ]
  },
  {
   "cell_type": "code",
   "execution_count": 13,
   "id": "8b9ac711-37f8-43b3-9727-3920a90a9d9d",
   "metadata": {},
   "outputs": [],
   "source": [
    "# Creating an exclusion flag based on customers with less than 5 orders\n",
    "\n",
    "df.loc[df['max_order'] < 5, 'low_activity_flag'] = 'Low-activity customer'"
   ]
  },
  {
   "cell_type": "code",
   "execution_count": 14,
   "id": "91698bc5-be0d-4db9-a9dd-2563fc97e83c",
   "metadata": {},
   "outputs": [],
   "source": [
    "df.loc[df['max_order'] >= 5, 'low_activity_flag'] = 'High-activity customer'"
   ]
  },
  {
   "cell_type": "code",
   "execution_count": 15,
   "id": "bbd40422-6b19-4cb0-9a24-a68bb1c96185",
   "metadata": {},
   "outputs": [
    {
     "data": {
      "text/plain": [
       "High-activity customer    30964564\n",
       "Low-activity customer      1440295\n",
       "Name: low_activity_flag, dtype: int64"
      ]
     },
     "execution_count": 15,
     "metadata": {},
     "output_type": "execute_result"
    }
   ],
   "source": [
    "df['low_activity_flag'].value_counts(dropna = False)"
   ]
  },
  {
   "cell_type": "code",
   "execution_count": 16,
   "id": "969d89c8-5e0b-41be-a98e-e3ee65a7cbd0",
   "metadata": {},
   "outputs": [],
   "source": [
    "# Creating a dataset with high-activity customers only and exporting it\n",
    "\n",
    "df_high_activity = df[df['low_activity_flag'] == 'High-activity customer']"
   ]
  },
  {
   "cell_type": "code",
   "execution_count": 17,
   "id": "4ff70852-7517-430f-8c5c-28d60ddae5b7",
   "metadata": {},
   "outputs": [
    {
     "data": {
      "text/html": [
       "<div>\n",
       "<style scoped>\n",
       "    .dataframe tbody tr th:only-of-type {\n",
       "        vertical-align: middle;\n",
       "    }\n",
       "\n",
       "    .dataframe tbody tr th {\n",
       "        vertical-align: top;\n",
       "    }\n",
       "\n",
       "    .dataframe thead th {\n",
       "        text-align: right;\n",
       "    }\n",
       "</style>\n",
       "<table border=\"1\" class=\"dataframe\">\n",
       "  <thead>\n",
       "    <tr style=\"text-align: right;\">\n",
       "      <th></th>\n",
       "      <th>order_id</th>\n",
       "      <th>user_id</th>\n",
       "      <th>order_number</th>\n",
       "      <th>order_day_of_week</th>\n",
       "      <th>order_hour_of_day</th>\n",
       "      <th>days_since_prior_order</th>\n",
       "      <th>product_id</th>\n",
       "      <th>add_to_cart_order</th>\n",
       "      <th>reordered</th>\n",
       "      <th>product_name</th>\n",
       "      <th>...</th>\n",
       "      <th>Last Name</th>\n",
       "      <th>Gender</th>\n",
       "      <th>STATE</th>\n",
       "      <th>Age</th>\n",
       "      <th>date_joined</th>\n",
       "      <th>Number of Dependants</th>\n",
       "      <th>Marital Status</th>\n",
       "      <th>income</th>\n",
       "      <th>region</th>\n",
       "      <th>low_activity_flag</th>\n",
       "    </tr>\n",
       "  </thead>\n",
       "  <tbody>\n",
       "    <tr>\n",
       "      <th>0</th>\n",
       "      <td>2539329</td>\n",
       "      <td>1</td>\n",
       "      <td>1</td>\n",
       "      <td>2</td>\n",
       "      <td>8</td>\n",
       "      <td>NaN</td>\n",
       "      <td>196</td>\n",
       "      <td>1</td>\n",
       "      <td>0</td>\n",
       "      <td>Soda</td>\n",
       "      <td>...</td>\n",
       "      <td>Nguyen</td>\n",
       "      <td>Female</td>\n",
       "      <td>Alabama</td>\n",
       "      <td>31</td>\n",
       "      <td>2/17/2019</td>\n",
       "      <td>3</td>\n",
       "      <td>married</td>\n",
       "      <td>40423</td>\n",
       "      <td>South</td>\n",
       "      <td>High-activity customer</td>\n",
       "    </tr>\n",
       "    <tr>\n",
       "      <th>1</th>\n",
       "      <td>2398795</td>\n",
       "      <td>1</td>\n",
       "      <td>2</td>\n",
       "      <td>3</td>\n",
       "      <td>7</td>\n",
       "      <td>15.0</td>\n",
       "      <td>196</td>\n",
       "      <td>1</td>\n",
       "      <td>1</td>\n",
       "      <td>Soda</td>\n",
       "      <td>...</td>\n",
       "      <td>Nguyen</td>\n",
       "      <td>Female</td>\n",
       "      <td>Alabama</td>\n",
       "      <td>31</td>\n",
       "      <td>2/17/2019</td>\n",
       "      <td>3</td>\n",
       "      <td>married</td>\n",
       "      <td>40423</td>\n",
       "      <td>South</td>\n",
       "      <td>High-activity customer</td>\n",
       "    </tr>\n",
       "    <tr>\n",
       "      <th>2</th>\n",
       "      <td>473747</td>\n",
       "      <td>1</td>\n",
       "      <td>3</td>\n",
       "      <td>3</td>\n",
       "      <td>12</td>\n",
       "      <td>21.0</td>\n",
       "      <td>196</td>\n",
       "      <td>1</td>\n",
       "      <td>1</td>\n",
       "      <td>Soda</td>\n",
       "      <td>...</td>\n",
       "      <td>Nguyen</td>\n",
       "      <td>Female</td>\n",
       "      <td>Alabama</td>\n",
       "      <td>31</td>\n",
       "      <td>2/17/2019</td>\n",
       "      <td>3</td>\n",
       "      <td>married</td>\n",
       "      <td>40423</td>\n",
       "      <td>South</td>\n",
       "      <td>High-activity customer</td>\n",
       "    </tr>\n",
       "    <tr>\n",
       "      <th>3</th>\n",
       "      <td>2254736</td>\n",
       "      <td>1</td>\n",
       "      <td>4</td>\n",
       "      <td>4</td>\n",
       "      <td>7</td>\n",
       "      <td>29.0</td>\n",
       "      <td>196</td>\n",
       "      <td>1</td>\n",
       "      <td>1</td>\n",
       "      <td>Soda</td>\n",
       "      <td>...</td>\n",
       "      <td>Nguyen</td>\n",
       "      <td>Female</td>\n",
       "      <td>Alabama</td>\n",
       "      <td>31</td>\n",
       "      <td>2/17/2019</td>\n",
       "      <td>3</td>\n",
       "      <td>married</td>\n",
       "      <td>40423</td>\n",
       "      <td>South</td>\n",
       "      <td>High-activity customer</td>\n",
       "    </tr>\n",
       "    <tr>\n",
       "      <th>4</th>\n",
       "      <td>431534</td>\n",
       "      <td>1</td>\n",
       "      <td>5</td>\n",
       "      <td>4</td>\n",
       "      <td>15</td>\n",
       "      <td>28.0</td>\n",
       "      <td>196</td>\n",
       "      <td>1</td>\n",
       "      <td>1</td>\n",
       "      <td>Soda</td>\n",
       "      <td>...</td>\n",
       "      <td>Nguyen</td>\n",
       "      <td>Female</td>\n",
       "      <td>Alabama</td>\n",
       "      <td>31</td>\n",
       "      <td>2/17/2019</td>\n",
       "      <td>3</td>\n",
       "      <td>married</td>\n",
       "      <td>40423</td>\n",
       "      <td>South</td>\n",
       "      <td>High-activity customer</td>\n",
       "    </tr>\n",
       "  </tbody>\n",
       "</table>\n",
       "<p>5 rows × 34 columns</p>\n",
       "</div>"
      ],
      "text/plain": [
       "   order_id user_id  order_number  order_day_of_week  order_hour_of_day  \\\n",
       "0   2539329       1             1                  2                  8   \n",
       "1   2398795       1             2                  3                  7   \n",
       "2    473747       1             3                  3                 12   \n",
       "3   2254736       1             4                  4                  7   \n",
       "4    431534       1             5                  4                 15   \n",
       "\n",
       "   days_since_prior_order  product_id  add_to_cart_order  reordered  \\\n",
       "0                     NaN         196                  1          0   \n",
       "1                    15.0         196                  1          1   \n",
       "2                    21.0         196                  1          1   \n",
       "3                    29.0         196                  1          1   \n",
       "4                    28.0         196                  1          1   \n",
       "\n",
       "  product_name  ...  Last Name  Gender    STATE Age date_joined  \\\n",
       "0         Soda  ...     Nguyen  Female  Alabama  31   2/17/2019   \n",
       "1         Soda  ...     Nguyen  Female  Alabama  31   2/17/2019   \n",
       "2         Soda  ...     Nguyen  Female  Alabama  31   2/17/2019   \n",
       "3         Soda  ...     Nguyen  Female  Alabama  31   2/17/2019   \n",
       "4         Soda  ...     Nguyen  Female  Alabama  31   2/17/2019   \n",
       "\n",
       "  Number of Dependants Marital Status  income region       low_activity_flag  \n",
       "0                    3        married   40423  South  High-activity customer  \n",
       "1                    3        married   40423  South  High-activity customer  \n",
       "2                    3        married   40423  South  High-activity customer  \n",
       "3                    3        married   40423  South  High-activity customer  \n",
       "4                    3        married   40423  South  High-activity customer  \n",
       "\n",
       "[5 rows x 34 columns]"
      ]
     },
     "execution_count": 17,
     "metadata": {},
     "output_type": "execute_result"
    }
   ],
   "source": [
    "df_high_activity.head()"
   ]
  },
  {
   "cell_type": "code",
   "execution_count": 18,
   "id": "dd41c5cd-d7e1-40f8-896d-a2f260e9b5fb",
   "metadata": {},
   "outputs": [],
   "source": [
    "df_high_activity.to_pickle(os.path.join(path,'02 Data','Prepared Data','high_activity_only.pkl'))"
   ]
  },
  {
   "cell_type": "markdown",
   "id": "3c64a85f-a992-4841-a34b-48cbc8a956cf",
   "metadata": {},
   "source": [
    "### Step 5 Profiling Customers"
   ]
  },
  {
   "cell_type": "markdown",
   "id": "a8341ce1-2b78-4c9d-bdfe-57b9ae8ae2ae",
   "metadata": {},
   "source": [
    "##### This step involves making profiles and flags for multiple variables in order to satisfy the project brief queries."
   ]
  },
  {
   "cell_type": "code",
   "execution_count": 19,
   "id": "9d13c5d2-8ede-4e15-be23-72fbd4803785",
   "metadata": {},
   "outputs": [],
   "source": [
    "# Age\n",
    "\n",
    "age_flag = []\n",
    "for x in df['Age'].tolist():\n",
    "    if x <= 25:\n",
    "        age_flag.append('Young')\n",
    "    elif x > 25 and x < 65:\n",
    "        age_flag.append('Middle-aged')\n",
    "    elif x >= 65:\n",
    "        age_flag.append('Senior')\n",
    "    else:\n",
    "        print('Weird value:', x)"
   ]
  },
  {
   "cell_type": "code",
   "execution_count": 20,
   "id": "b46a0cf2-6093-4815-87b6-d174cee6107f",
   "metadata": {},
   "outputs": [],
   "source": [
    "df['age_profile'] = age_flag"
   ]
  },
  {
   "cell_type": "code",
   "execution_count": 21,
   "id": "0a21c011-f8f9-488e-88d6-bb1356966b8b",
   "metadata": {},
   "outputs": [
    {
     "data": {
      "text/plain": [
       "Middle-aged    19784586\n",
       "Senior          8575084\n",
       "Young           4045189\n",
       "Name: age_profile, dtype: int64"
      ]
     },
     "execution_count": 21,
     "metadata": {},
     "output_type": "execute_result"
    }
   ],
   "source": [
    "# Checking frequency\n",
    "\n",
    "df['age_profile'].value_counts(dropna = False)"
   ]
  },
  {
   "cell_type": "code",
   "execution_count": 22,
   "id": "2b53c19a-8446-4405-be5a-491ba82cd68a",
   "metadata": {},
   "outputs": [],
   "source": [
    "# Income\n",
    "\n",
    "income_flag = []\n",
    "for x in df['income'].tolist():\n",
    "    if x < 60000:\n",
    "        income_flag.append('Low-income')\n",
    "    elif x >= 60000 and x < 125000:\n",
    "        income_flag.append('Mid-income')\n",
    "    elif x >= 125000:\n",
    "        income_flag.append('High-income')\n",
    "    else:\n",
    "        print('Weird value:', row)"
   ]
  },
  {
   "cell_type": "code",
   "execution_count": 23,
   "id": "62af60c9-06f2-47b9-8a05-0bc538ec6392",
   "metadata": {},
   "outputs": [],
   "source": [
    "df['income_profile'] = income_flag"
   ]
  },
  {
   "cell_type": "code",
   "execution_count": 24,
   "id": "fb2cb4a3-9692-42f4-b63c-29b23e10ad5d",
   "metadata": {},
   "outputs": [
    {
     "data": {
      "text/plain": [
       "Mid-income     17613761\n",
       "High-income     8630957\n",
       "Low-income      6160141\n",
       "Name: income_profile, dtype: int64"
      ]
     },
     "execution_count": 24,
     "metadata": {},
     "output_type": "execute_result"
    }
   ],
   "source": [
    "# Checking freq\n",
    "\n",
    "df['income_profile'].value_counts(dropna = False)"
   ]
  },
  {
   "cell_type": "markdown",
   "id": "a4313474-8e32-42d8-b138-6b2022bb4c92",
   "metadata": {},
   "source": [
    "##### Seperating department values into vegan and non-vegans as well as grocery purchases vs miscellanous purchases"
   ]
  },
  {
   "cell_type": "code",
   "execution_count": 25,
   "id": "0f0ff2d8-70f7-4406-a531-e6a7ef917b37",
   "metadata": {},
   "outputs": [],
   "source": [
    "# Creating a crosstab between 'department_id' and 'user_id' to label customers appropriately based off their department purches\n",
    "\n",
    "dep_user_cross = pd.crosstab(df['department_id'], df['user_id'], dropna = False)"
   ]
  },
  {
   "cell_type": "code",
   "execution_count": 26,
   "id": "f00413e0-b1ce-4db1-ba4b-91dde231e612",
   "metadata": {},
   "outputs": [
    {
     "data": {
      "text/html": [
       "<div>\n",
       "<style scoped>\n",
       "    .dataframe tbody tr th:only-of-type {\n",
       "        vertical-align: middle;\n",
       "    }\n",
       "\n",
       "    .dataframe tbody tr th {\n",
       "        vertical-align: top;\n",
       "    }\n",
       "\n",
       "    .dataframe thead th {\n",
       "        text-align: right;\n",
       "    }\n",
       "</style>\n",
       "<table border=\"1\" class=\"dataframe\">\n",
       "  <thead>\n",
       "    <tr style=\"text-align: right;\">\n",
       "      <th>user_id</th>\n",
       "      <th>1</th>\n",
       "      <th>10</th>\n",
       "      <th>100</th>\n",
       "      <th>1000</th>\n",
       "      <th>10000</th>\n",
       "      <th>100000</th>\n",
       "      <th>100001</th>\n",
       "      <th>100002</th>\n",
       "      <th>100003</th>\n",
       "      <th>100004</th>\n",
       "      <th>...</th>\n",
       "      <th>99990</th>\n",
       "      <th>99991</th>\n",
       "      <th>99992</th>\n",
       "      <th>99993</th>\n",
       "      <th>99994</th>\n",
       "      <th>99995</th>\n",
       "      <th>99996</th>\n",
       "      <th>99997</th>\n",
       "      <th>99998</th>\n",
       "      <th>99999</th>\n",
       "    </tr>\n",
       "    <tr>\n",
       "      <th>department_id</th>\n",
       "      <th></th>\n",
       "      <th></th>\n",
       "      <th></th>\n",
       "      <th></th>\n",
       "      <th></th>\n",
       "      <th></th>\n",
       "      <th></th>\n",
       "      <th></th>\n",
       "      <th></th>\n",
       "      <th></th>\n",
       "      <th></th>\n",
       "      <th></th>\n",
       "      <th></th>\n",
       "      <th></th>\n",
       "      <th></th>\n",
       "      <th></th>\n",
       "      <th></th>\n",
       "      <th></th>\n",
       "      <th></th>\n",
       "      <th></th>\n",
       "      <th></th>\n",
       "    </tr>\n",
       "  </thead>\n",
       "  <tbody>\n",
       "    <tr>\n",
       "      <th>1</th>\n",
       "      <td>0</td>\n",
       "      <td>1</td>\n",
       "      <td>3</td>\n",
       "      <td>5</td>\n",
       "      <td>56</td>\n",
       "      <td>0</td>\n",
       "      <td>16</td>\n",
       "      <td>7</td>\n",
       "      <td>3</td>\n",
       "      <td>0</td>\n",
       "      <td>...</td>\n",
       "      <td>13</td>\n",
       "      <td>16</td>\n",
       "      <td>4</td>\n",
       "      <td>9</td>\n",
       "      <td>12</td>\n",
       "      <td>7</td>\n",
       "      <td>51</td>\n",
       "      <td>4</td>\n",
       "      <td>2</td>\n",
       "      <td>9</td>\n",
       "    </tr>\n",
       "    <tr>\n",
       "      <th>2</th>\n",
       "      <td>0</td>\n",
       "      <td>0</td>\n",
       "      <td>0</td>\n",
       "      <td>0</td>\n",
       "      <td>0</td>\n",
       "      <td>0</td>\n",
       "      <td>0</td>\n",
       "      <td>0</td>\n",
       "      <td>0</td>\n",
       "      <td>0</td>\n",
       "      <td>...</td>\n",
       "      <td>0</td>\n",
       "      <td>1</td>\n",
       "      <td>0</td>\n",
       "      <td>0</td>\n",
       "      <td>0</td>\n",
       "      <td>0</td>\n",
       "      <td>1</td>\n",
       "      <td>0</td>\n",
       "      <td>0</td>\n",
       "      <td>0</td>\n",
       "    </tr>\n",
       "    <tr>\n",
       "      <th>3</th>\n",
       "      <td>0</td>\n",
       "      <td>0</td>\n",
       "      <td>2</td>\n",
       "      <td>1</td>\n",
       "      <td>56</td>\n",
       "      <td>8</td>\n",
       "      <td>17</td>\n",
       "      <td>1</td>\n",
       "      <td>2</td>\n",
       "      <td>0</td>\n",
       "      <td>...</td>\n",
       "      <td>1</td>\n",
       "      <td>0</td>\n",
       "      <td>2</td>\n",
       "      <td>4</td>\n",
       "      <td>7</td>\n",
       "      <td>2</td>\n",
       "      <td>4</td>\n",
       "      <td>3</td>\n",
       "      <td>0</td>\n",
       "      <td>7</td>\n",
       "    </tr>\n",
       "    <tr>\n",
       "      <th>4</th>\n",
       "      <td>5</td>\n",
       "      <td>72</td>\n",
       "      <td>10</td>\n",
       "      <td>34</td>\n",
       "      <td>340</td>\n",
       "      <td>51</td>\n",
       "      <td>393</td>\n",
       "      <td>0</td>\n",
       "      <td>10</td>\n",
       "      <td>0</td>\n",
       "      <td>...</td>\n",
       "      <td>196</td>\n",
       "      <td>78</td>\n",
       "      <td>4</td>\n",
       "      <td>22</td>\n",
       "      <td>68</td>\n",
       "      <td>10</td>\n",
       "      <td>20</td>\n",
       "      <td>10</td>\n",
       "      <td>14</td>\n",
       "      <td>129</td>\n",
       "    </tr>\n",
       "    <tr>\n",
       "      <th>5</th>\n",
       "      <td>0</td>\n",
       "      <td>0</td>\n",
       "      <td>0</td>\n",
       "      <td>0</td>\n",
       "      <td>0</td>\n",
       "      <td>2</td>\n",
       "      <td>0</td>\n",
       "      <td>0</td>\n",
       "      <td>0</td>\n",
       "      <td>0</td>\n",
       "      <td>...</td>\n",
       "      <td>0</td>\n",
       "      <td>0</td>\n",
       "      <td>0</td>\n",
       "      <td>0</td>\n",
       "      <td>0</td>\n",
       "      <td>4</td>\n",
       "      <td>0</td>\n",
       "      <td>0</td>\n",
       "      <td>0</td>\n",
       "      <td>0</td>\n",
       "    </tr>\n",
       "  </tbody>\n",
       "</table>\n",
       "<p>5 rows × 206209 columns</p>\n",
       "</div>"
      ],
      "text/plain": [
       "user_id        1  10  100  1000  10000  100000  100001  100002  100003  \\\n",
       "department_id                                                            \n",
       "1              0   1    3     5     56       0      16       7       3   \n",
       "2              0   0    0     0      0       0       0       0       0   \n",
       "3              0   0    2     1     56       8      17       1       2   \n",
       "4              5  72   10    34    340      51     393       0      10   \n",
       "5              0   0    0     0      0       2       0       0       0   \n",
       "\n",
       "user_id        100004  ...  99990  99991  99992  99993  99994  99995  99996  \\\n",
       "department_id          ...                                                    \n",
       "1                   0  ...     13     16      4      9     12      7     51   \n",
       "2                   0  ...      0      1      0      0      0      0      1   \n",
       "3                   0  ...      1      0      2      4      7      2      4   \n",
       "4                   0  ...    196     78      4     22     68     10     20   \n",
       "5                   0  ...      0      0      0      0      0      4      0   \n",
       "\n",
       "user_id        99997  99998  99999  \n",
       "department_id                       \n",
       "1                  4      2      9  \n",
       "2                  0      0      0  \n",
       "3                  3      0      7  \n",
       "4                 10     14    129  \n",
       "5                  0      0      0  \n",
       "\n",
       "[5 rows x 206209 columns]"
      ]
     },
     "execution_count": 26,
     "metadata": {},
     "output_type": "execute_result"
    }
   ],
   "source": [
    "dep_user_cross.head()"
   ]
  },
  {
   "cell_type": "code",
   "execution_count": 27,
   "id": "c44a5644-eacf-49dd-a673-cd708b23c389",
   "metadata": {},
   "outputs": [],
   "source": [
    "# Assigning nutrition flags to users and storing them in a Python dictionary, excluding customers from that have history with meat and diary purchases (department 12 or 16).\n",
    "\n",
    "vegan_dict = dict()\n",
    "for user in dep_user_cross:\n",
    "    workinglist = dep_user_cross[user].tolist()\n",
    "    if workinglist[11] == 0 and workinglist[15] == 0:   # the index starts at 0, so index 0 corresponds to dep_id=1\n",
    "        vegan_dict[user] = 'Vegan'\n",
    "    else:\n",
    "        vegan_dict[user] = 'Non-vegan'"
   ]
  },
  {
   "cell_type": "code",
   "execution_count": 28,
   "id": "28450306-2114-4823-b7c8-f5fe788a7967",
   "metadata": {},
   "outputs": [],
   "source": [
    "# Assigning user flags to the vegan_flag\n",
    "\n",
    "vegan_flag = []\n",
    "for user in df['user_id']:\n",
    "    vegan_flag.append(vegan_dict[user])"
   ]
  },
  {
   "cell_type": "code",
   "execution_count": 29,
   "id": "3d484f0e-5c5f-483d-a38c-50534cbafcd9",
   "metadata": {},
   "outputs": [],
   "source": [
    "# Adding vegan_flag to df as 'vegan_profile'\n",
    "\n",
    "df['vegan_profile'] = vegan_flag"
   ]
  },
  {
   "cell_type": "code",
   "execution_count": 30,
   "id": "1689766e-fd9a-435d-a745-9ff4aa0bffd4",
   "metadata": {},
   "outputs": [
    {
     "data": {
      "text/plain": [
       "Non-vegan    32021432\n",
       "Vegan          383427\n",
       "Name: vegan_profile, dtype: int64"
      ]
     },
     "execution_count": 30,
     "metadata": {},
     "output_type": "execute_result"
    }
   ],
   "source": [
    "# Checking freq 'vegan_profile'\n",
    "\n",
    "df['vegan_profile'].value_counts(dropna = False)"
   ]
  },
  {
   "cell_type": "code",
   "execution_count": 31,
   "id": "ee62f1f7-877e-4e92-8907-c42d443cab91",
   "metadata": {},
   "outputs": [],
   "source": [
    "# Repeating the process to single out customers that are only interested in groceries and food products\n",
    "\n",
    "misc_dict = dict()\n",
    "for user in dep_user_cross:\n",
    "    workinglist = dep_user_cross[user].tolist()\n",
    "    if workinglist[20] == 0 and workinglist[17] == 0 and workinglist[16] == 0 and workinglist[10] == 0 and workinglist[7] == 0 and workinglist[5] == 0 and workinglist[1] == 0:   # the index starts at 0, so index 0 corresponds to dep_id=1\n",
    "        misc_dict[user] = 'Groceries Only'\n",
    "    else: \n",
    "        misc_dict[user] = 'Variety Purchases'"
   ]
  },
  {
   "cell_type": "code",
   "execution_count": 32,
   "id": "f4ff3383-86ff-4f0d-8490-538db118de5e",
   "metadata": {},
   "outputs": [],
   "source": [
    "variety_flag = []\n",
    "for user in df['user_id']:\n",
    "    variety_flag.append(misc_dict[user])"
   ]
  },
  {
   "cell_type": "code",
   "execution_count": 33,
   "id": "79df6db9-bb5d-480d-91c5-82d89a7e7a5a",
   "metadata": {},
   "outputs": [],
   "source": [
    "df['variety_profile'] = variety_flag"
   ]
  },
  {
   "cell_type": "code",
   "execution_count": 34,
   "id": "29661c74-0d82-4fac-bfb3-468e950eff89",
   "metadata": {},
   "outputs": [
    {
     "data": {
      "text/plain": [
       "Variety Purchases    30085901\n",
       "Groceries Only        2318958\n",
       "Name: variety_profile, dtype: int64"
      ]
     },
     "execution_count": 34,
     "metadata": {},
     "output_type": "execute_result"
    }
   ],
   "source": [
    "df['variety_profile'].value_counts(dropna = False)"
   ]
  },
  {
   "cell_type": "markdown",
   "id": "803b9efc-f7a6-44cc-81aa-64c2cb66da38",
   "metadata": {},
   "source": [
    "#### Moving on to family status"
   ]
  },
  {
   "cell_type": "code",
   "execution_count": 5,
   "id": "6d37c70c-c78e-4593-b77f-2438e66117f9",
   "metadata": {},
   "outputs": [],
   "source": [
    "# Creating buckets for dependent x married variables\n",
    "\n",
    "df.loc[(df['Marital Status'] == 'married') & (df['Number of Dependants'] == 1), 'family_profile'] = 'Married no children'"
   ]
  },
  {
   "cell_type": "code",
   "execution_count": 6,
   "id": "583d035a-6988-4985-b664-9cb5542a6f53",
   "metadata": {},
   "outputs": [],
   "source": [
    "# Creating the 'family_profile' column and labeling the 'married with children' customers\n",
    "\n",
    "df.loc[(df['Marital Status'] == 'married') & (df['Number of Dependants'] >= 2), 'family_profile'] = 'Married with children'"
   ]
  },
  {
   "cell_type": "code",
   "execution_count": 7,
   "id": "2a2e755c-a10e-4420-951e-65242b57d29c",
   "metadata": {},
   "outputs": [],
   "source": [
    "# Creating the 'family_profile' column and labeling the 'single no children' customers\n",
    "\n",
    "df.loc[(df['Marital Status'] != 'married') & (df['Number of Dependants'] == 0), 'family_profile'] = 'Single no children'"
   ]
  },
  {
   "cell_type": "code",
   "execution_count": 8,
   "id": "161823d3-8ebe-4ae2-9a4b-ab057a9b5e18",
   "metadata": {},
   "outputs": [],
   "source": [
    "# Creating the 'family_profile' column and labeling the 'single with children' customers\n",
    "\n",
    "df.loc[(df['Marital Status'] != 'married') & (df['Number of Dependants'] >= 1), 'family_profile'] = 'Single with children'"
   ]
  },
  {
   "cell_type": "code",
   "execution_count": 39,
   "id": "28a782e7-cc52-4f32-b6f1-de9cbe4501c8",
   "metadata": {},
   "outputs": [
    {
     "data": {
      "text/plain": [
       "Married with children    15205849\n",
       "Single no children        8097503\n",
       "Married no children       7550904\n",
       "Single with children      1550603\n",
       "Name: family_profile, dtype: int64"
      ]
     },
     "execution_count": 39,
     "metadata": {},
     "output_type": "execute_result"
    }
   ],
   "source": [
    "# Getting frequency distribution for 'family_profile'\n",
    "\n",
    "df['family_profile'].value_counts(dropna = False)"
   ]
  },
  {
   "cell_type": "markdown",
   "id": "e9d7d8d7-3652-4539-817e-ba9ecfbcd4b2",
   "metadata": {},
   "source": [
    "### Step 6 Visualization(s)"
   ]
  },
  {
   "cell_type": "code",
   "execution_count": 40,
   "id": "b9edead6-a1d8-4275-a102-fb1644be18ee",
   "metadata": {},
   "outputs": [
    {
     "data": {
      "image/png": "[encoded data removed]",
      "text/plain": [
       "<Figure size 640x480 with 1 Axes>"
      ]
     },
     "metadata": {},
     "output_type": "display_data"
    }
   ],
   "source": [
    "age_profile_bar = df['age_profile'].value_counts().plot.bar(rot=0)"
   ]
  },
  {
   "cell_type": "code",
   "execution_count": 41,
   "id": "94895ee8-57f0-4cd4-ae3b-aade4e054e7d",
   "metadata": {},
   "outputs": [],
   "source": [
    "age_profile_bar.figure.savefig(os.path.join(path, '04 Analysis', 'Visualizations', 'age_profile_bar.png'))"
   ]
  },
  {
   "cell_type": "code",
   "execution_count": 42,
   "id": "1be3bd55-9397-4b86-8770-659c189c4dcd",
   "metadata": {},
   "outputs": [
    {
     "data": {
      "image/png": "[encoded data removed]",
      "text/plain": [
       "<Figure size 640x480 with 1 Axes>"
      ]
     },
     "metadata": {},
     "output_type": "display_data"
    }
   ],
   "source": [
    "income_profile_bar = df['income_profile'].value_counts().plot.bar(rot=0)"
   ]
  },
  {
   "cell_type": "code",
   "execution_count": 43,
   "id": "2a9a5cba-178f-4914-8183-126fe53fee72",
   "metadata": {},
   "outputs": [],
   "source": [
    "income_profile_bar.figure.savefig(os.path.join(path, '04 Analysis', 'Visualizations', 'income_profile_bar.png'))"
   ]
  },
  {
   "cell_type": "code",
   "execution_count": 44,
   "id": "2ab19f3c-e19c-49ab-a639-3fcf13cf2989",
   "metadata": {},
   "outputs": [
    {
     "data": {
      "image/png": "[encoded data removed]",
      "text/plain": [
       "<Figure size 640x480 with 1 Axes>"
      ]
     },
     "metadata": {},
     "output_type": "display_data"
    }
   ],
   "source": [
    "vegan_profile_bar = df['vegan_profile'].value_counts().plot.bar(rot=0)"
   ]
  },
  {
   "cell_type": "code",
   "execution_count": 45,
   "id": "77a34965-629c-424d-be87-7ced3eae114a",
   "metadata": {},
   "outputs": [],
   "source": [
    "vegan_profile_bar.figure.savefig(os.path.join(path, '04 Analysis', 'Visualizations', 'vegan_profile_bar.png'))"
   ]
  },
  {
   "cell_type": "code",
   "execution_count": 46,
   "id": "73db09f9-9d79-4dd1-8681-bb38798e869a",
   "metadata": {},
   "outputs": [
    {
     "data": {
      "image/png": "[encoded data removed]",
      "text/plain": [
       "<Figure size 640x480 with 1 Axes>"
      ]
     },
     "metadata": {},
     "output_type": "display_data"
    }
   ],
   "source": [
    "variety_profile_bar = df['variety_profile'].value_counts().plot.bar(rot=0)"
   ]
  },
  {
   "cell_type": "code",
   "execution_count": 47,
   "id": "c6972575-f565-41f1-b896-df9fde825851",
   "metadata": {},
   "outputs": [],
   "source": [
    "variety_profile_bar.figure.savefig(os.path.join(path, '04 Analysis', 'Visualizations', 'variety_profile_bar.png'))"
   ]
  },
  {
   "cell_type": "code",
   "execution_count": 14,
   "id": "85322561-2cb1-446e-b9a8-72f0c2e1c405",
   "metadata": {},
   "outputs": [
    {
     "data": {
      "image/png": "[encoded data removed]",
      "text/plain": [
       "<Figure size 640x480 with 1 Axes>"
      ]
     },
     "metadata": {},
     "output_type": "display_data"
    }
   ],
   "source": [
    "family_profile_bar = df['family_profile'].value_counts().plot.bar()\n",
    "\n",
    "plt.xticks(rotation=45, ha='right', fontsize=10)\n",
    "plt.tight_layout()"
   ]
  },
  {
   "cell_type": "code",
   "execution_count": 15,
   "id": "a64ec62d-ec5d-45ba-853f-4912033ef7b9",
   "metadata": {},
   "outputs": [],
   "source": [
    "family_profile_bar.figure.savefig(os.path.join(path, '04 Analysis', 'Visualizations', 'family_profile_bar.png'))"
   ]
  },
  {
   "cell_type": "markdown",
   "id": "47f8934d-7ef0-4734-a0ce-56098c1288e3",
   "metadata": {},
   "source": [
    "#### Step 7 Exploring max, mean min, of all customer-profiles based on prices"
   ]
  },
  {
   "cell_type": "code",
   "execution_count": 50,
   "id": "897ce654-f58c-4351-931c-cc0e6a540147",
   "metadata": {},
   "outputs": [
    {
     "data": {
      "text/html": [
       "<div>\n",
       "<style scoped>\n",
       "    .dataframe tbody tr th:only-of-type {\n",
       "        vertical-align: middle;\n",
       "    }\n",
       "\n",
       "    .dataframe tbody tr th {\n",
       "        vertical-align: top;\n",
       "    }\n",
       "\n",
       "    .dataframe thead tr th {\n",
       "        text-align: left;\n",
       "    }\n",
       "\n",
       "    .dataframe thead tr:last-of-type th {\n",
       "        text-align: right;\n",
       "    }\n",
       "</style>\n",
       "<table border=\"1\" class=\"dataframe\">\n",
       "  <thead>\n",
       "    <tr>\n",
       "      <th></th>\n",
       "      <th colspan=\"3\" halign=\"left\">days_since_prior_order</th>\n",
       "      <th colspan=\"3\" halign=\"left\">prices</th>\n",
       "    </tr>\n",
       "    <tr>\n",
       "      <th></th>\n",
       "      <th>mean</th>\n",
       "      <th>max</th>\n",
       "      <th>min</th>\n",
       "      <th>mean</th>\n",
       "      <th>max</th>\n",
       "      <th>min</th>\n",
       "    </tr>\n",
       "    <tr>\n",
       "      <th>age_profile</th>\n",
       "      <th></th>\n",
       "      <th></th>\n",
       "      <th></th>\n",
       "      <th></th>\n",
       "      <th></th>\n",
       "      <th></th>\n",
       "    </tr>\n",
       "  </thead>\n",
       "  <tbody>\n",
       "    <tr>\n",
       "      <th>Middle-aged</th>\n",
       "      <td>11.117362</td>\n",
       "      <td>30.0</td>\n",
       "      <td>0.0</td>\n",
       "      <td>7.789660</td>\n",
       "      <td>25.0</td>\n",
       "      <td>1.0</td>\n",
       "    </tr>\n",
       "    <tr>\n",
       "      <th>Senior</th>\n",
       "      <td>11.078641</td>\n",
       "      <td>30.0</td>\n",
       "      <td>0.0</td>\n",
       "      <td>7.796546</td>\n",
       "      <td>25.0</td>\n",
       "      <td>1.0</td>\n",
       "    </tr>\n",
       "    <tr>\n",
       "      <th>Young</th>\n",
       "      <td>11.093030</td>\n",
       "      <td>30.0</td>\n",
       "      <td>0.0</td>\n",
       "      <td>7.785748</td>\n",
       "      <td>25.0</td>\n",
       "      <td>1.0</td>\n",
       "    </tr>\n",
       "  </tbody>\n",
       "</table>\n",
       "</div>"
      ],
      "text/plain": [
       "            days_since_prior_order               prices           \n",
       "                              mean   max  min      mean   max  min\n",
       "age_profile                                                       \n",
       "Middle-aged              11.117362  30.0  0.0  7.789660  25.0  1.0\n",
       "Senior                   11.078641  30.0  0.0  7.796546  25.0  1.0\n",
       "Young                    11.093030  30.0  0.0  7.785748  25.0  1.0"
      ]
     },
     "execution_count": 50,
     "metadata": {},
     "output_type": "execute_result"
    }
   ],
   "source": [
    "#age\n",
    "\n",
    "df.groupby('age_profile').agg({'days_since_prior_order': ['mean', 'max', 'min'], 'prices': ['mean', 'max', 'min']})"
   ]
  },
  {
   "cell_type": "code",
   "execution_count": 51,
   "id": "0aa3fe4e-e52d-477e-a468-dbccd035748f",
   "metadata": {},
   "outputs": [
    {
     "data": {
      "text/html": [
       "<div>\n",
       "<style scoped>\n",
       "    .dataframe tbody tr th:only-of-type {\n",
       "        vertical-align: middle;\n",
       "    }\n",
       "\n",
       "    .dataframe tbody tr th {\n",
       "        vertical-align: top;\n",
       "    }\n",
       "\n",
       "    .dataframe thead tr th {\n",
       "        text-align: left;\n",
       "    }\n",
       "\n",
       "    .dataframe thead tr:last-of-type th {\n",
       "        text-align: right;\n",
       "    }\n",
       "</style>\n",
       "<table border=\"1\" class=\"dataframe\">\n",
       "  <thead>\n",
       "    <tr>\n",
       "      <th></th>\n",
       "      <th colspan=\"3\" halign=\"left\">days_since_prior_order</th>\n",
       "      <th colspan=\"3\" halign=\"left\">prices</th>\n",
       "    </tr>\n",
       "    <tr>\n",
       "      <th></th>\n",
       "      <th>mean</th>\n",
       "      <th>max</th>\n",
       "      <th>min</th>\n",
       "      <th>mean</th>\n",
       "      <th>max</th>\n",
       "      <th>min</th>\n",
       "    </tr>\n",
       "    <tr>\n",
       "      <th>income_profile</th>\n",
       "      <th></th>\n",
       "      <th></th>\n",
       "      <th></th>\n",
       "      <th></th>\n",
       "      <th></th>\n",
       "      <th></th>\n",
       "    </tr>\n",
       "  </thead>\n",
       "  <tbody>\n",
       "    <tr>\n",
       "      <th>High-income</th>\n",
       "      <td>11.024072</td>\n",
       "      <td>30.0</td>\n",
       "      <td>0.0</td>\n",
       "      <td>7.957172</td>\n",
       "      <td>25.0</td>\n",
       "      <td>1.0</td>\n",
       "    </tr>\n",
       "    <tr>\n",
       "      <th>Low-income</th>\n",
       "      <td>11.427331</td>\n",
       "      <td>30.0</td>\n",
       "      <td>0.0</td>\n",
       "      <td>7.072255</td>\n",
       "      <td>25.0</td>\n",
       "      <td>1.0</td>\n",
       "    </tr>\n",
       "    <tr>\n",
       "      <th>Mid-income</th>\n",
       "      <td>11.031076</td>\n",
       "      <td>30.0</td>\n",
       "      <td>0.0</td>\n",
       "      <td>7.960981</td>\n",
       "      <td>25.0</td>\n",
       "      <td>1.0</td>\n",
       "    </tr>\n",
       "  </tbody>\n",
       "</table>\n",
       "</div>"
      ],
      "text/plain": [
       "               days_since_prior_order               prices           \n",
       "                                 mean   max  min      mean   max  min\n",
       "income_profile                                                       \n",
       "High-income                 11.024072  30.0  0.0  7.957172  25.0  1.0\n",
       "Low-income                  11.427331  30.0  0.0  7.072255  25.0  1.0\n",
       "Mid-income                  11.031076  30.0  0.0  7.960981  25.0  1.0"
      ]
     },
     "execution_count": 51,
     "metadata": {},
     "output_type": "execute_result"
    }
   ],
   "source": [
    "#income\n",
    "\n",
    "df.groupby('income_profile').agg({'days_since_prior_order': ['mean', 'max', 'min'], 'prices': ['mean', 'max', 'min']})"
   ]
  },
  {
   "cell_type": "code",
   "execution_count": 52,
   "id": "137257e9-5599-44d7-9077-ce75e626011d",
   "metadata": {},
   "outputs": [
    {
     "data": {
      "text/html": [
       "<div>\n",
       "<style scoped>\n",
       "    .dataframe tbody tr th:only-of-type {\n",
       "        vertical-align: middle;\n",
       "    }\n",
       "\n",
       "    .dataframe tbody tr th {\n",
       "        vertical-align: top;\n",
       "    }\n",
       "\n",
       "    .dataframe thead tr th {\n",
       "        text-align: left;\n",
       "    }\n",
       "\n",
       "    .dataframe thead tr:last-of-type th {\n",
       "        text-align: right;\n",
       "    }\n",
       "</style>\n",
       "<table border=\"1\" class=\"dataframe\">\n",
       "  <thead>\n",
       "    <tr>\n",
       "      <th></th>\n",
       "      <th colspan=\"3\" halign=\"left\">days_since_prior_order</th>\n",
       "      <th colspan=\"3\" halign=\"left\">prices</th>\n",
       "    </tr>\n",
       "    <tr>\n",
       "      <th></th>\n",
       "      <th>mean</th>\n",
       "      <th>max</th>\n",
       "      <th>min</th>\n",
       "      <th>mean</th>\n",
       "      <th>max</th>\n",
       "      <th>min</th>\n",
       "    </tr>\n",
       "    <tr>\n",
       "      <th>vegan_profile</th>\n",
       "      <th></th>\n",
       "      <th></th>\n",
       "      <th></th>\n",
       "      <th></th>\n",
       "      <th></th>\n",
       "      <th></th>\n",
       "    </tr>\n",
       "  </thead>\n",
       "  <tbody>\n",
       "    <tr>\n",
       "      <th>Non-vegan</th>\n",
       "      <td>11.063329</td>\n",
       "      <td>30.0</td>\n",
       "      <td>0.0</td>\n",
       "      <td>7.800348</td>\n",
       "      <td>25.0</td>\n",
       "      <td>1.0</td>\n",
       "    </tr>\n",
       "    <tr>\n",
       "      <th>Vegan</th>\n",
       "      <td>14.749275</td>\n",
       "      <td>30.0</td>\n",
       "      <td>0.0</td>\n",
       "      <td>7.009920</td>\n",
       "      <td>20.0</td>\n",
       "      <td>1.0</td>\n",
       "    </tr>\n",
       "  </tbody>\n",
       "</table>\n",
       "</div>"
      ],
      "text/plain": [
       "              days_since_prior_order               prices           \n",
       "                                mean   max  min      mean   max  min\n",
       "vegan_profile                                                       \n",
       "Non-vegan                  11.063329  30.0  0.0  7.800348  25.0  1.0\n",
       "Vegan                      14.749275  30.0  0.0  7.009920  20.0  1.0"
      ]
     },
     "execution_count": 52,
     "metadata": {},
     "output_type": "execute_result"
    }
   ],
   "source": [
    "#vegan\n",
    "\n",
    "df.groupby('vegan_profile').agg({'days_since_prior_order': ['mean', 'max', 'min'], 'prices': ['mean', 'max', 'min']})"
   ]
  },
  {
   "cell_type": "code",
   "execution_count": 54,
   "id": "69932227-8a78-4645-9fb5-d71c57775c26",
   "metadata": {},
   "outputs": [
    {
     "data": {
      "text/html": [
       "<div>\n",
       "<style scoped>\n",
       "    .dataframe tbody tr th:only-of-type {\n",
       "        vertical-align: middle;\n",
       "    }\n",
       "\n",
       "    .dataframe tbody tr th {\n",
       "        vertical-align: top;\n",
       "    }\n",
       "\n",
       "    .dataframe thead tr th {\n",
       "        text-align: left;\n",
       "    }\n",
       "\n",
       "    .dataframe thead tr:last-of-type th {\n",
       "        text-align: right;\n",
       "    }\n",
       "</style>\n",
       "<table border=\"1\" class=\"dataframe\">\n",
       "  <thead>\n",
       "    <tr>\n",
       "      <th></th>\n",
       "      <th colspan=\"3\" halign=\"left\">days_since_prior_order</th>\n",
       "      <th colspan=\"3\" halign=\"left\">prices</th>\n",
       "    </tr>\n",
       "    <tr>\n",
       "      <th></th>\n",
       "      <th>mean</th>\n",
       "      <th>max</th>\n",
       "      <th>min</th>\n",
       "      <th>mean</th>\n",
       "      <th>max</th>\n",
       "      <th>min</th>\n",
       "    </tr>\n",
       "    <tr>\n",
       "      <th>variety_profile</th>\n",
       "      <th></th>\n",
       "      <th></th>\n",
       "      <th></th>\n",
       "      <th></th>\n",
       "      <th></th>\n",
       "      <th></th>\n",
       "    </tr>\n",
       "  </thead>\n",
       "  <tbody>\n",
       "    <tr>\n",
       "      <th>Groceries Only</th>\n",
       "      <td>14.811738</td>\n",
       "      <td>30.0</td>\n",
       "      <td>0.0</td>\n",
       "      <td>7.680446</td>\n",
       "      <td>25.0</td>\n",
       "      <td>1.0</td>\n",
       "    </tr>\n",
       "    <tr>\n",
       "      <th>Variety Purchases</th>\n",
       "      <td>10.839053</td>\n",
       "      <td>30.0</td>\n",
       "      <td>0.0</td>\n",
       "      <td>7.799515</td>\n",
       "      <td>25.0</td>\n",
       "      <td>1.0</td>\n",
       "    </tr>\n",
       "  </tbody>\n",
       "</table>\n",
       "</div>"
      ],
      "text/plain": [
       "                  days_since_prior_order               prices           \n",
       "                                    mean   max  min      mean   max  min\n",
       "variety_profile                                                         \n",
       "Groceries Only                 14.811738  30.0  0.0  7.680446  25.0  1.0\n",
       "Variety Purchases              10.839053  30.0  0.0  7.799515  25.0  1.0"
      ]
     },
     "execution_count": 54,
     "metadata": {},
     "output_type": "execute_result"
    }
   ],
   "source": [
    "#variety\n",
    "\n",
    "df.groupby('variety_profile').agg({'days_since_prior_order': ['mean', 'max', 'min'], 'prices': ['mean', 'max', 'min']})"
   ]
  },
  {
   "cell_type": "code",
   "execution_count": 53,
   "id": "5679f827-16d4-4314-b7e3-e7fd870d08a7",
   "metadata": {},
   "outputs": [
    {
     "data": {
      "text/html": [
       "<div>\n",
       "<style scoped>\n",
       "    .dataframe tbody tr th:only-of-type {\n",
       "        vertical-align: middle;\n",
       "    }\n",
       "\n",
       "    .dataframe tbody tr th {\n",
       "        vertical-align: top;\n",
       "    }\n",
       "\n",
       "    .dataframe thead tr th {\n",
       "        text-align: left;\n",
       "    }\n",
       "\n",
       "    .dataframe thead tr:last-of-type th {\n",
       "        text-align: right;\n",
       "    }\n",
       "</style>\n",
       "<table border=\"1\" class=\"dataframe\">\n",
       "  <thead>\n",
       "    <tr>\n",
       "      <th></th>\n",
       "      <th colspan=\"3\" halign=\"left\">days_since_prior_order</th>\n",
       "      <th colspan=\"3\" halign=\"left\">prices</th>\n",
       "    </tr>\n",
       "    <tr>\n",
       "      <th></th>\n",
       "      <th>mean</th>\n",
       "      <th>max</th>\n",
       "      <th>min</th>\n",
       "      <th>mean</th>\n",
       "      <th>max</th>\n",
       "      <th>min</th>\n",
       "    </tr>\n",
       "    <tr>\n",
       "      <th>family_profile</th>\n",
       "      <th></th>\n",
       "      <th></th>\n",
       "      <th></th>\n",
       "      <th></th>\n",
       "      <th></th>\n",
       "      <th></th>\n",
       "    </tr>\n",
       "  </thead>\n",
       "  <tbody>\n",
       "    <tr>\n",
       "      <th>Married no children</th>\n",
       "      <td>11.113141</td>\n",
       "      <td>30.0</td>\n",
       "      <td>0.0</td>\n",
       "      <td>7.795712</td>\n",
       "      <td>25.0</td>\n",
       "      <td>1.0</td>\n",
       "    </tr>\n",
       "    <tr>\n",
       "      <th>Married with children</th>\n",
       "      <td>11.117681</td>\n",
       "      <td>30.0</td>\n",
       "      <td>0.0</td>\n",
       "      <td>7.788203</td>\n",
       "      <td>25.0</td>\n",
       "      <td>1.0</td>\n",
       "    </tr>\n",
       "    <tr>\n",
       "      <th>Single no children</th>\n",
       "      <td>11.080805</td>\n",
       "      <td>30.0</td>\n",
       "      <td>0.0</td>\n",
       "      <td>7.789975</td>\n",
       "      <td>25.0</td>\n",
       "      <td>1.0</td>\n",
       "    </tr>\n",
       "    <tr>\n",
       "      <th>Single with children</th>\n",
       "      <td>11.048170</td>\n",
       "      <td>30.0</td>\n",
       "      <td>0.0</td>\n",
       "      <td>7.800712</td>\n",
       "      <td>25.0</td>\n",
       "      <td>1.0</td>\n",
       "    </tr>\n",
       "  </tbody>\n",
       "</table>\n",
       "</div>"
      ],
      "text/plain": [
       "                      days_since_prior_order               prices           \n",
       "                                        mean   max  min      mean   max  min\n",
       "family_profile                                                              \n",
       "Married no children                11.113141  30.0  0.0  7.795712  25.0  1.0\n",
       "Married with children              11.117681  30.0  0.0  7.788203  25.0  1.0\n",
       "Single no children                 11.080805  30.0  0.0  7.789975  25.0  1.0\n",
       "Single with children               11.048170  30.0  0.0  7.800712  25.0  1.0"
      ]
     },
     "execution_count": 53,
     "metadata": {},
     "output_type": "execute_result"
    }
   ],
   "source": [
    "#family\n",
    "\n",
    "df.groupby('family_profile').agg({'days_since_prior_order': ['mean', 'max', 'min'], 'prices': ['mean', 'max', 'min']})"
   ]
  },
  {
   "cell_type": "markdown",
   "id": "a7c73e39-1e80-47b7-925c-6789e0f708ae",
   "metadata": {},
   "source": [
    "### Step 8 comparing created profiles with region and departments"
   ]
  },
  {
   "cell_type": "code",
   "execution_count": 55,
   "id": "8f5dadb6-45c6-457d-a5d3-8dcd8409e952",
   "metadata": {},
   "outputs": [],
   "source": [
    "# age and region\n",
    "\n",
    "age_region_cross = pd.crosstab(df['age_profile'], df['region'], normalize = 'columns')\n",
    "# normalize = 'columns' gives the column percentages"
   ]
  },
  {
   "cell_type": "code",
   "execution_count": 56,
   "id": "ae72ebe3-8143-4355-93ac-49ff8192ce01",
   "metadata": {},
   "outputs": [
    {
     "data": {
      "text/html": [
       "<div>\n",
       "<style scoped>\n",
       "    .dataframe tbody tr th:only-of-type {\n",
       "        vertical-align: middle;\n",
       "    }\n",
       "\n",
       "    .dataframe tbody tr th {\n",
       "        vertical-align: top;\n",
       "    }\n",
       "\n",
       "    .dataframe thead th {\n",
       "        text-align: right;\n",
       "    }\n",
       "</style>\n",
       "<table border=\"1\" class=\"dataframe\">\n",
       "  <thead>\n",
       "    <tr style=\"text-align: right;\">\n",
       "      <th>region</th>\n",
       "      <th>Midwest</th>\n",
       "      <th>Northeast</th>\n",
       "      <th>South</th>\n",
       "      <th>West</th>\n",
       "    </tr>\n",
       "    <tr>\n",
       "      <th>age_profile</th>\n",
       "      <th></th>\n",
       "      <th></th>\n",
       "      <th></th>\n",
       "      <th></th>\n",
       "    </tr>\n",
       "  </thead>\n",
       "  <tbody>\n",
       "    <tr>\n",
       "      <th>Middle-aged</th>\n",
       "      <td>0.614288</td>\n",
       "      <td>0.604208</td>\n",
       "      <td>0.609621</td>\n",
       "      <td>0.612686</td>\n",
       "    </tr>\n",
       "    <tr>\n",
       "      <th>Senior</th>\n",
       "      <td>0.262045</td>\n",
       "      <td>0.271531</td>\n",
       "      <td>0.262814</td>\n",
       "      <td>0.264573</td>\n",
       "    </tr>\n",
       "    <tr>\n",
       "      <th>Young</th>\n",
       "      <td>0.123666</td>\n",
       "      <td>0.124261</td>\n",
       "      <td>0.127565</td>\n",
       "      <td>0.122741</td>\n",
       "    </tr>\n",
       "  </tbody>\n",
       "</table>\n",
       "</div>"
      ],
      "text/plain": [
       "region        Midwest  Northeast     South      West\n",
       "age_profile                                         \n",
       "Middle-aged  0.614288   0.604208  0.609621  0.612686\n",
       "Senior       0.262045   0.271531  0.262814  0.264573\n",
       "Young        0.123666   0.124261  0.127565  0.122741"
      ]
     },
     "execution_count": 56,
     "metadata": {},
     "output_type": "execute_result"
    }
   ],
   "source": [
    "age_region_cross"
   ]
  },
  {
   "cell_type": "code",
   "execution_count": 57,
   "id": "09ca2e04-a13d-48fa-8c24-ceb1041bfa85",
   "metadata": {},
   "outputs": [],
   "source": [
    "# age and department\n",
    "\n",
    "age_department_cross = pd.crosstab(df['age_profile'], df['department_id'], normalize = 'index')   \n",
    "# normalize = 'index' gives row percentages"
   ]
  },
  {
   "cell_type": "code",
   "execution_count": 58,
   "id": "5403925f-4107-4ceb-a55f-ab07133a5d46",
   "metadata": {},
   "outputs": [
    {
     "data": {
      "text/html": [
       "<div>\n",
       "<style scoped>\n",
       "    .dataframe tbody tr th:only-of-type {\n",
       "        vertical-align: middle;\n",
       "    }\n",
       "\n",
       "    .dataframe tbody tr th {\n",
       "        vertical-align: top;\n",
       "    }\n",
       "\n",
       "    .dataframe thead th {\n",
       "        text-align: right;\n",
       "    }\n",
       "</style>\n",
       "<table border=\"1\" class=\"dataframe\">\n",
       "  <thead>\n",
       "    <tr style=\"text-align: right;\">\n",
       "      <th>department_id</th>\n",
       "      <th>1</th>\n",
       "      <th>2</th>\n",
       "      <th>3</th>\n",
       "      <th>4</th>\n",
       "      <th>5</th>\n",
       "      <th>6</th>\n",
       "      <th>7</th>\n",
       "      <th>8</th>\n",
       "      <th>9</th>\n",
       "      <th>10</th>\n",
       "      <th>11</th>\n",
       "      <th>12</th>\n",
       "      <th>13</th>\n",
       "      <th>14</th>\n",
       "      <th>15</th>\n",
       "      <th>16</th>\n",
       "      <th>17</th>\n",
       "      <th>18</th>\n",
       "      <th>19</th>\n",
       "      <th>20</th>\n",
       "      <th>21</th>\n",
       "    </tr>\n",
       "    <tr>\n",
       "      <th>age_profile</th>\n",
       "      <th></th>\n",
       "      <th></th>\n",
       "      <th></th>\n",
       "      <th></th>\n",
       "      <th></th>\n",
       "      <th></th>\n",
       "      <th></th>\n",
       "      <th></th>\n",
       "      <th></th>\n",
       "      <th></th>\n",
       "      <th></th>\n",
       "      <th></th>\n",
       "      <th></th>\n",
       "      <th></th>\n",
       "      <th></th>\n",
       "      <th></th>\n",
       "      <th></th>\n",
       "      <th></th>\n",
       "      <th></th>\n",
       "      <th></th>\n",
       "      <th></th>\n",
       "    </tr>\n",
       "  </thead>\n",
       "  <tbody>\n",
       "    <tr>\n",
       "      <th>Middle-aged</th>\n",
       "      <td>0.068796</td>\n",
       "      <td>0.001122</td>\n",
       "      <td>0.036214</td>\n",
       "      <td>0.292547</td>\n",
       "      <td>0.004764</td>\n",
       "      <td>0.008312</td>\n",
       "      <td>0.082903</td>\n",
       "      <td>0.002938</td>\n",
       "      <td>0.026682</td>\n",
       "      <td>0.001057</td>\n",
       "      <td>0.013867</td>\n",
       "      <td>0.021732</td>\n",
       "      <td>0.057853</td>\n",
       "      <td>0.021718</td>\n",
       "      <td>0.032962</td>\n",
       "      <td>0.166679</td>\n",
       "      <td>0.022748</td>\n",
       "      <td>0.013210</td>\n",
       "      <td>0.089266</td>\n",
       "      <td>0.032507</td>\n",
       "      <td>0.002125</td>\n",
       "    </tr>\n",
       "    <tr>\n",
       "      <th>Senior</th>\n",
       "      <td>0.069232</td>\n",
       "      <td>0.001099</td>\n",
       "      <td>0.036096</td>\n",
       "      <td>0.293147</td>\n",
       "      <td>0.004552</td>\n",
       "      <td>0.008253</td>\n",
       "      <td>0.083362</td>\n",
       "      <td>0.003065</td>\n",
       "      <td>0.026698</td>\n",
       "      <td>0.001078</td>\n",
       "      <td>0.013691</td>\n",
       "      <td>0.022171</td>\n",
       "      <td>0.057956</td>\n",
       "      <td>0.021439</td>\n",
       "      <td>0.032937</td>\n",
       "      <td>0.166321</td>\n",
       "      <td>0.022966</td>\n",
       "      <td>0.012763</td>\n",
       "      <td>0.088689</td>\n",
       "      <td>0.032375</td>\n",
       "      <td>0.002110</td>\n",
       "    </tr>\n",
       "    <tr>\n",
       "      <th>Young</th>\n",
       "      <td>0.069212</td>\n",
       "      <td>0.001154</td>\n",
       "      <td>0.036198</td>\n",
       "      <td>0.291112</td>\n",
       "      <td>0.005046</td>\n",
       "      <td>0.008414</td>\n",
       "      <td>0.082342</td>\n",
       "      <td>0.003287</td>\n",
       "      <td>0.027146</td>\n",
       "      <td>0.001093</td>\n",
       "      <td>0.013798</td>\n",
       "      <td>0.021965</td>\n",
       "      <td>0.057796</td>\n",
       "      <td>0.022129</td>\n",
       "      <td>0.033000</td>\n",
       "      <td>0.166830</td>\n",
       "      <td>0.022662</td>\n",
       "      <td>0.013105</td>\n",
       "      <td>0.089228</td>\n",
       "      <td>0.032261</td>\n",
       "      <td>0.002225</td>\n",
       "    </tr>\n",
       "  </tbody>\n",
       "</table>\n",
       "</div>"
      ],
      "text/plain": [
       "department_id        1         2         3         4         5         6   \\\n",
       "age_profile                                                                 \n",
       "Middle-aged    0.068796  0.001122  0.036214  0.292547  0.004764  0.008312   \n",
       "Senior         0.069232  0.001099  0.036096  0.293147  0.004552  0.008253   \n",
       "Young          0.069212  0.001154  0.036198  0.291112  0.005046  0.008414   \n",
       "\n",
       "department_id        7         8         9         10        11        12  \\\n",
       "age_profile                                                                 \n",
       "Middle-aged    0.082903  0.002938  0.026682  0.001057  0.013867  0.021732   \n",
       "Senior         0.083362  0.003065  0.026698  0.001078  0.013691  0.022171   \n",
       "Young          0.082342  0.003287  0.027146  0.001093  0.013798  0.021965   \n",
       "\n",
       "department_id        13        14        15        16        17        18  \\\n",
       "age_profile                                                                 \n",
       "Middle-aged    0.057853  0.021718  0.032962  0.166679  0.022748  0.013210   \n",
       "Senior         0.057956  0.021439  0.032937  0.166321  0.022966  0.012763   \n",
       "Young          0.057796  0.022129  0.033000  0.166830  0.022662  0.013105   \n",
       "\n",
       "department_id        19        20        21  \n",
       "age_profile                                  \n",
       "Middle-aged    0.089266  0.032507  0.002125  \n",
       "Senior         0.088689  0.032375  0.002110  \n",
       "Young          0.089228  0.032261  0.002225  "
      ]
     },
     "execution_count": 58,
     "metadata": {},
     "output_type": "execute_result"
    }
   ],
   "source": [
    "pd.set_option('display.max_columns', None)    # displays all columns\n",
    "\n",
    "age_department_cross"
   ]
  },
  {
   "cell_type": "code",
   "execution_count": 60,
   "id": "7d255bbe-6c90-4162-ae5c-b61f17d73357",
   "metadata": {},
   "outputs": [],
   "source": [
    "#income and region\n",
    "\n",
    "income_region_cross = pd.crosstab(df['income_profile'], df['region'], normalize = 'columns')\n",
    "# normalize = 'columns' gives the column percentages"
   ]
  },
  {
   "cell_type": "code",
   "execution_count": 61,
   "id": "dfe5d388-53ed-42ed-8848-0bbaf66ce43d",
   "metadata": {},
   "outputs": [
    {
     "data": {
      "text/html": [
       "<div>\n",
       "<style scoped>\n",
       "    .dataframe tbody tr th:only-of-type {\n",
       "        vertical-align: middle;\n",
       "    }\n",
       "\n",
       "    .dataframe tbody tr th {\n",
       "        vertical-align: top;\n",
       "    }\n",
       "\n",
       "    .dataframe thead th {\n",
       "        text-align: right;\n",
       "    }\n",
       "</style>\n",
       "<table border=\"1\" class=\"dataframe\">\n",
       "  <thead>\n",
       "    <tr style=\"text-align: right;\">\n",
       "      <th>region</th>\n",
       "      <th>Midwest</th>\n",
       "      <th>Northeast</th>\n",
       "      <th>South</th>\n",
       "      <th>West</th>\n",
       "    </tr>\n",
       "    <tr>\n",
       "      <th>income_profile</th>\n",
       "      <th></th>\n",
       "      <th></th>\n",
       "      <th></th>\n",
       "      <th></th>\n",
       "    </tr>\n",
       "  </thead>\n",
       "  <tbody>\n",
       "    <tr>\n",
       "      <th>High-income</th>\n",
       "      <td>0.270318</td>\n",
       "      <td>0.268977</td>\n",
       "      <td>0.262824</td>\n",
       "      <td>0.265481</td>\n",
       "    </tr>\n",
       "    <tr>\n",
       "      <th>Low-income</th>\n",
       "      <td>0.187755</td>\n",
       "      <td>0.189074</td>\n",
       "      <td>0.193260</td>\n",
       "      <td>0.188842</td>\n",
       "    </tr>\n",
       "    <tr>\n",
       "      <th>Mid-income</th>\n",
       "      <td>0.541927</td>\n",
       "      <td>0.541950</td>\n",
       "      <td>0.543916</td>\n",
       "      <td>0.545677</td>\n",
       "    </tr>\n",
       "  </tbody>\n",
       "</table>\n",
       "</div>"
      ],
      "text/plain": [
       "region           Midwest  Northeast     South      West\n",
       "income_profile                                         \n",
       "High-income     0.270318   0.268977  0.262824  0.265481\n",
       "Low-income      0.187755   0.189074  0.193260  0.188842\n",
       "Mid-income      0.541927   0.541950  0.543916  0.545677"
      ]
     },
     "execution_count": 61,
     "metadata": {},
     "output_type": "execute_result"
    }
   ],
   "source": [
    "income_region_cross"
   ]
  },
  {
   "cell_type": "code",
   "execution_count": 62,
   "id": "730e77e3-2d0d-4396-b169-2a7ee0bc2ac9",
   "metadata": {},
   "outputs": [],
   "source": [
    "#income and departments\n",
    "\n",
    "income_department_cross = pd.crosstab(df['income_profile'], df['department_id'], normalize = 'index')\n",
    "# normalize = 'index' gives row percentages"
   ]
  },
  {
   "cell_type": "code",
   "execution_count": 63,
   "id": "dde0e277-dee9-458e-9bc4-5fd8dd3245ae",
   "metadata": {},
   "outputs": [
    {
     "data": {
      "text/html": [
       "<div>\n",
       "<style scoped>\n",
       "    .dataframe tbody tr th:only-of-type {\n",
       "        vertical-align: middle;\n",
       "    }\n",
       "\n",
       "    .dataframe tbody tr th {\n",
       "        vertical-align: top;\n",
       "    }\n",
       "\n",
       "    .dataframe thead th {\n",
       "        text-align: right;\n",
       "    }\n",
       "</style>\n",
       "<table border=\"1\" class=\"dataframe\">\n",
       "  <thead>\n",
       "    <tr style=\"text-align: right;\">\n",
       "      <th>department_id</th>\n",
       "      <th>1</th>\n",
       "      <th>2</th>\n",
       "      <th>3</th>\n",
       "      <th>4</th>\n",
       "      <th>5</th>\n",
       "      <th>6</th>\n",
       "      <th>7</th>\n",
       "      <th>8</th>\n",
       "      <th>9</th>\n",
       "      <th>10</th>\n",
       "      <th>11</th>\n",
       "      <th>12</th>\n",
       "      <th>13</th>\n",
       "      <th>14</th>\n",
       "      <th>15</th>\n",
       "      <th>16</th>\n",
       "      <th>17</th>\n",
       "      <th>18</th>\n",
       "      <th>19</th>\n",
       "      <th>20</th>\n",
       "      <th>21</th>\n",
       "    </tr>\n",
       "    <tr>\n",
       "      <th>income_profile</th>\n",
       "      <th></th>\n",
       "      <th></th>\n",
       "      <th></th>\n",
       "      <th></th>\n",
       "      <th></th>\n",
       "      <th></th>\n",
       "      <th></th>\n",
       "      <th></th>\n",
       "      <th></th>\n",
       "      <th></th>\n",
       "      <th></th>\n",
       "      <th></th>\n",
       "      <th></th>\n",
       "      <th></th>\n",
       "      <th></th>\n",
       "      <th></th>\n",
       "      <th></th>\n",
       "      <th></th>\n",
       "      <th></th>\n",
       "      <th></th>\n",
       "      <th></th>\n",
       "    </tr>\n",
       "  </thead>\n",
       "  <tbody>\n",
       "    <tr>\n",
       "      <th>High-income</th>\n",
       "      <td>0.070178</td>\n",
       "      <td>0.001124</td>\n",
       "      <td>0.037367</td>\n",
       "      <td>0.296090</td>\n",
       "      <td>0.005225</td>\n",
       "      <td>0.008508</td>\n",
       "      <td>0.079665</td>\n",
       "      <td>0.003198</td>\n",
       "      <td>0.027690</td>\n",
       "      <td>0.000964</td>\n",
       "      <td>0.013796</td>\n",
       "      <td>0.023733</td>\n",
       "      <td>0.059357</td>\n",
       "      <td>0.021042</td>\n",
       "      <td>0.034518</td>\n",
       "      <td>0.169215</td>\n",
       "      <td>0.022926</td>\n",
       "      <td>0.013578</td>\n",
       "      <td>0.077290</td>\n",
       "      <td>0.032395</td>\n",
       "      <td>0.002141</td>\n",
       "    </tr>\n",
       "    <tr>\n",
       "      <th>Low-income</th>\n",
       "      <td>0.066106</td>\n",
       "      <td>0.001140</td>\n",
       "      <td>0.033210</td>\n",
       "      <td>0.263449</td>\n",
       "      <td>0.005066</td>\n",
       "      <td>0.007197</td>\n",
       "      <td>0.101902</td>\n",
       "      <td>0.002678</td>\n",
       "      <td>0.022153</td>\n",
       "      <td>0.001234</td>\n",
       "      <td>0.014206</td>\n",
       "      <td>0.014175</td>\n",
       "      <td>0.052767</td>\n",
       "      <td>0.025316</td>\n",
       "      <td>0.027360</td>\n",
       "      <td>0.154938</td>\n",
       "      <td>0.024753</td>\n",
       "      <td>0.009729</td>\n",
       "      <td>0.138554</td>\n",
       "      <td>0.031981</td>\n",
       "      <td>0.002086</td>\n",
       "    </tr>\n",
       "    <tr>\n",
       "      <th>Mid-income</th>\n",
       "      <td>0.069367</td>\n",
       "      <td>0.001111</td>\n",
       "      <td>0.036638</td>\n",
       "      <td>0.300950</td>\n",
       "      <td>0.004394</td>\n",
       "      <td>0.008600</td>\n",
       "      <td>0.077940</td>\n",
       "      <td>0.003044</td>\n",
       "      <td>0.027885</td>\n",
       "      <td>0.001059</td>\n",
       "      <td>0.013682</td>\n",
       "      <td>0.023662</td>\n",
       "      <td>0.058932</td>\n",
       "      <td>0.020749</td>\n",
       "      <td>0.034155</td>\n",
       "      <td>0.169403</td>\n",
       "      <td>0.022046</td>\n",
       "      <td>0.014005</td>\n",
       "      <td>0.077607</td>\n",
       "      <td>0.032625</td>\n",
       "      <td>0.002147</td>\n",
       "    </tr>\n",
       "  </tbody>\n",
       "</table>\n",
       "</div>"
      ],
      "text/plain": [
       "department_id         1         2         3         4         5         6   \\\n",
       "income_profile                                                               \n",
       "High-income     0.070178  0.001124  0.037367  0.296090  0.005225  0.008508   \n",
       "Low-income      0.066106  0.001140  0.033210  0.263449  0.005066  0.007197   \n",
       "Mid-income      0.069367  0.001111  0.036638  0.300950  0.004394  0.008600   \n",
       "\n",
       "department_id         7         8         9         10        11        12  \\\n",
       "income_profile                                                               \n",
       "High-income     0.079665  0.003198  0.027690  0.000964  0.013796  0.023733   \n",
       "Low-income      0.101902  0.002678  0.022153  0.001234  0.014206  0.014175   \n",
       "Mid-income      0.077940  0.003044  0.027885  0.001059  0.013682  0.023662   \n",
       "\n",
       "department_id         13        14        15        16        17        18  \\\n",
       "income_profile                                                               \n",
       "High-income     0.059357  0.021042  0.034518  0.169215  0.022926  0.013578   \n",
       "Low-income      0.052767  0.025316  0.027360  0.154938  0.024753  0.009729   \n",
       "Mid-income      0.058932  0.020749  0.034155  0.169403  0.022046  0.014005   \n",
       "\n",
       "department_id         19        20        21  \n",
       "income_profile                                \n",
       "High-income     0.077290  0.032395  0.002141  \n",
       "Low-income      0.138554  0.031981  0.002086  \n",
       "Mid-income      0.077607  0.032625  0.002147  "
      ]
     },
     "execution_count": 63,
     "metadata": {},
     "output_type": "execute_result"
    }
   ],
   "source": [
    "income_department_cross"
   ]
  },
  {
   "cell_type": "code",
   "execution_count": 64,
   "id": "1f39081e-40f6-4c89-8143-87ee1fe3ff3b",
   "metadata": {},
   "outputs": [],
   "source": [
    "#vegan and region\n",
    "\n",
    "vegan_region_cross = pd.crosstab(df['vegan_profile'], df['region'], normalize = 'columns')\n",
    "# normalize = 'columns' gives the column percentages"
   ]
  },
  {
   "cell_type": "code",
   "execution_count": 65,
   "id": "fa19c879-fdcf-4d97-be89-08e549942ad5",
   "metadata": {},
   "outputs": [
    {
     "data": {
      "text/html": [
       "<div>\n",
       "<style scoped>\n",
       "    .dataframe tbody tr th:only-of-type {\n",
       "        vertical-align: middle;\n",
       "    }\n",
       "\n",
       "    .dataframe tbody tr th {\n",
       "        vertical-align: top;\n",
       "    }\n",
       "\n",
       "    .dataframe thead th {\n",
       "        text-align: right;\n",
       "    }\n",
       "</style>\n",
       "<table border=\"1\" class=\"dataframe\">\n",
       "  <thead>\n",
       "    <tr style=\"text-align: right;\">\n",
       "      <th>region</th>\n",
       "      <th>Midwest</th>\n",
       "      <th>Northeast</th>\n",
       "      <th>South</th>\n",
       "      <th>West</th>\n",
       "    </tr>\n",
       "    <tr>\n",
       "      <th>vegan_profile</th>\n",
       "      <th></th>\n",
       "      <th></th>\n",
       "      <th></th>\n",
       "      <th></th>\n",
       "    </tr>\n",
       "  </thead>\n",
       "  <tbody>\n",
       "    <tr>\n",
       "      <th>Non-vegan</th>\n",
       "      <td>0.988115</td>\n",
       "      <td>0.988159</td>\n",
       "      <td>0.988389</td>\n",
       "      <td>0.987934</td>\n",
       "    </tr>\n",
       "    <tr>\n",
       "      <th>Vegan</th>\n",
       "      <td>0.011885</td>\n",
       "      <td>0.011841</td>\n",
       "      <td>0.011611</td>\n",
       "      <td>0.012066</td>\n",
       "    </tr>\n",
       "  </tbody>\n",
       "</table>\n",
       "</div>"
      ],
      "text/plain": [
       "region          Midwest  Northeast     South      West\n",
       "vegan_profile                                         \n",
       "Non-vegan      0.988115   0.988159  0.988389  0.987934\n",
       "Vegan          0.011885   0.011841  0.011611  0.012066"
      ]
     },
     "execution_count": 65,
     "metadata": {},
     "output_type": "execute_result"
    }
   ],
   "source": [
    "vegan_region_cross"
   ]
  },
  {
   "cell_type": "code",
   "execution_count": 71,
   "id": "4163e5b7-6fc5-41e9-9d7f-bd387568eb68",
   "metadata": {},
   "outputs": [],
   "source": [
    "#vegan and department\n",
    "\n",
    "vegan_department_cross = pd.crosstab(df['vegan_profile'], df['department_id'], normalize = 'index')\n",
    "# normalize = 'index' gives row percentages"
   ]
  },
  {
   "cell_type": "code",
   "execution_count": 67,
   "id": "5745d12f-f166-488d-ad1d-2777fefb6f24",
   "metadata": {},
   "outputs": [
    {
     "data": {
      "text/html": [
       "<div>\n",
       "<style scoped>\n",
       "    .dataframe tbody tr th:only-of-type {\n",
       "        vertical-align: middle;\n",
       "    }\n",
       "\n",
       "    .dataframe tbody tr th {\n",
       "        vertical-align: top;\n",
       "    }\n",
       "\n",
       "    .dataframe thead th {\n",
       "        text-align: right;\n",
       "    }\n",
       "</style>\n",
       "<table border=\"1\" class=\"dataframe\">\n",
       "  <thead>\n",
       "    <tr style=\"text-align: right;\">\n",
       "      <th>department_id</th>\n",
       "      <th>1</th>\n",
       "      <th>2</th>\n",
       "      <th>3</th>\n",
       "      <th>4</th>\n",
       "      <th>5</th>\n",
       "      <th>6</th>\n",
       "      <th>7</th>\n",
       "      <th>8</th>\n",
       "      <th>9</th>\n",
       "      <th>10</th>\n",
       "      <th>11</th>\n",
       "      <th>12</th>\n",
       "      <th>13</th>\n",
       "      <th>14</th>\n",
       "      <th>15</th>\n",
       "      <th>16</th>\n",
       "      <th>17</th>\n",
       "      <th>18</th>\n",
       "      <th>19</th>\n",
       "      <th>20</th>\n",
       "      <th>21</th>\n",
       "    </tr>\n",
       "    <tr>\n",
       "      <th>vegan_profile</th>\n",
       "      <th></th>\n",
       "      <th></th>\n",
       "      <th></th>\n",
       "      <th></th>\n",
       "      <th></th>\n",
       "      <th></th>\n",
       "      <th></th>\n",
       "      <th></th>\n",
       "      <th></th>\n",
       "      <th></th>\n",
       "      <th></th>\n",
       "      <th></th>\n",
       "      <th></th>\n",
       "      <th></th>\n",
       "      <th></th>\n",
       "      <th></th>\n",
       "      <th></th>\n",
       "      <th></th>\n",
       "      <th></th>\n",
       "      <th></th>\n",
       "      <th></th>\n",
       "    </tr>\n",
       "  </thead>\n",
       "  <tbody>\n",
       "    <tr>\n",
       "      <th>Non-vegan</th>\n",
       "      <td>0.069073</td>\n",
       "      <td>0.001104</td>\n",
       "      <td>0.036399</td>\n",
       "      <td>0.292392</td>\n",
       "      <td>0.004387</td>\n",
       "      <td>0.008358</td>\n",
       "      <td>0.081628</td>\n",
       "      <td>0.003010</td>\n",
       "      <td>0.026952</td>\n",
       "      <td>0.001059</td>\n",
       "      <td>0.013644</td>\n",
       "      <td>0.022139</td>\n",
       "      <td>0.058016</td>\n",
       "      <td>0.021700</td>\n",
       "      <td>0.033148</td>\n",
       "      <td>0.168598</td>\n",
       "      <td>0.022303</td>\n",
       "      <td>0.013163</td>\n",
       "      <td>0.088189</td>\n",
       "      <td>0.032604</td>\n",
       "      <td>0.002135</td>\n",
       "    </tr>\n",
       "    <tr>\n",
       "      <th>Vegan</th>\n",
       "      <td>0.059795</td>\n",
       "      <td>0.002470</td>\n",
       "      <td>0.017964</td>\n",
       "      <td>0.303800</td>\n",
       "      <td>0.034432</td>\n",
       "      <td>0.004222</td>\n",
       "      <td>0.193680</td>\n",
       "      <td>0.003484</td>\n",
       "      <td>0.009386</td>\n",
       "      <td>0.001750</td>\n",
       "      <td>0.027872</td>\n",
       "      <td>0.000000</td>\n",
       "      <td>0.045936</td>\n",
       "      <td>0.021263</td>\n",
       "      <td>0.017244</td>\n",
       "      <td>0.000000</td>\n",
       "      <td>0.063884</td>\n",
       "      <td>0.006045</td>\n",
       "      <td>0.165925</td>\n",
       "      <td>0.018809</td>\n",
       "      <td>0.002037</td>\n",
       "    </tr>\n",
       "  </tbody>\n",
       "</table>\n",
       "</div>"
      ],
      "text/plain": [
       "department_id        1         2         3         4         5         6   \\\n",
       "vegan_profile                                                               \n",
       "Non-vegan      0.069073  0.001104  0.036399  0.292392  0.004387  0.008358   \n",
       "Vegan          0.059795  0.002470  0.017964  0.303800  0.034432  0.004222   \n",
       "\n",
       "department_id        7         8         9         10        11        12  \\\n",
       "vegan_profile                                                               \n",
       "Non-vegan      0.081628  0.003010  0.026952  0.001059  0.013644  0.022139   \n",
       "Vegan          0.193680  0.003484  0.009386  0.001750  0.027872  0.000000   \n",
       "\n",
       "department_id        13        14        15        16        17        18  \\\n",
       "vegan_profile                                                               \n",
       "Non-vegan      0.058016  0.021700  0.033148  0.168598  0.022303  0.013163   \n",
       "Vegan          0.045936  0.021263  0.017244  0.000000  0.063884  0.006045   \n",
       "\n",
       "department_id        19        20        21  \n",
       "vegan_profile                                \n",
       "Non-vegan      0.088189  0.032604  0.002135  \n",
       "Vegan          0.165925  0.018809  0.002037  "
      ]
     },
     "execution_count": 67,
     "metadata": {},
     "output_type": "execute_result"
    }
   ],
   "source": [
    "vegan_department_cross"
   ]
  },
  {
   "cell_type": "code",
   "execution_count": 68,
   "id": "d9a741c8-8d87-47d5-860b-b498f7450ab5",
   "metadata": {},
   "outputs": [],
   "source": [
    "#variety and region\n",
    "\n",
    "variety_region_cross = pd.crosstab(df['variety_profile'], df['region'], normalize = 'columns')\n",
    "# normalize = 'columns' gives the column percentages"
   ]
  },
  {
   "cell_type": "code",
   "execution_count": 69,
   "id": "575543ed-6224-46be-97cc-f09ee5ddaf8b",
   "metadata": {},
   "outputs": [
    {
     "data": {
      "text/html": [
       "<div>\n",
       "<style scoped>\n",
       "    .dataframe tbody tr th:only-of-type {\n",
       "        vertical-align: middle;\n",
       "    }\n",
       "\n",
       "    .dataframe tbody tr th {\n",
       "        vertical-align: top;\n",
       "    }\n",
       "\n",
       "    .dataframe thead th {\n",
       "        text-align: right;\n",
       "    }\n",
       "</style>\n",
       "<table border=\"1\" class=\"dataframe\">\n",
       "  <thead>\n",
       "    <tr style=\"text-align: right;\">\n",
       "      <th>region</th>\n",
       "      <th>Midwest</th>\n",
       "      <th>Northeast</th>\n",
       "      <th>South</th>\n",
       "      <th>West</th>\n",
       "    </tr>\n",
       "    <tr>\n",
       "      <th>variety_profile</th>\n",
       "      <th></th>\n",
       "      <th></th>\n",
       "      <th></th>\n",
       "      <th></th>\n",
       "    </tr>\n",
       "  </thead>\n",
       "  <tbody>\n",
       "    <tr>\n",
       "      <th>Groceries Only</th>\n",
       "      <td>0.070774</td>\n",
       "      <td>0.07185</td>\n",
       "      <td>0.072245</td>\n",
       "      <td>0.071196</td>\n",
       "    </tr>\n",
       "    <tr>\n",
       "      <th>Variety Purchases</th>\n",
       "      <td>0.929226</td>\n",
       "      <td>0.92815</td>\n",
       "      <td>0.927755</td>\n",
       "      <td>0.928804</td>\n",
       "    </tr>\n",
       "  </tbody>\n",
       "</table>\n",
       "</div>"
      ],
      "text/plain": [
       "region              Midwest  Northeast     South      West\n",
       "variety_profile                                           \n",
       "Groceries Only     0.070774    0.07185  0.072245  0.071196\n",
       "Variety Purchases  0.929226    0.92815  0.927755  0.928804"
      ]
     },
     "execution_count": 69,
     "metadata": {},
     "output_type": "execute_result"
    }
   ],
   "source": [
    "variety_region_cross"
   ]
  },
  {
   "cell_type": "code",
   "execution_count": 72,
   "id": "c38f24d1-fc3b-4d9e-b800-a11889eac245",
   "metadata": {},
   "outputs": [],
   "source": [
    "#variety and departments\n",
    "\n",
    "variety_department_cross = pd.crosstab(df['variety_profile'], df['department_id'], normalize = 'index')\n",
    "# normalize = 'index' gives row percentages"
   ]
  },
  {
   "cell_type": "code",
   "execution_count": 73,
   "id": "fcfc2d77-3a17-4034-9a69-f2cd2fb7a7da",
   "metadata": {},
   "outputs": [
    {
     "data": {
      "text/html": [
       "<div>\n",
       "<style scoped>\n",
       "    .dataframe tbody tr th:only-of-type {\n",
       "        vertical-align: middle;\n",
       "    }\n",
       "\n",
       "    .dataframe tbody tr th {\n",
       "        vertical-align: top;\n",
       "    }\n",
       "\n",
       "    .dataframe thead th {\n",
       "        text-align: right;\n",
       "    }\n",
       "</style>\n",
       "<table border=\"1\" class=\"dataframe\">\n",
       "  <thead>\n",
       "    <tr style=\"text-align: right;\">\n",
       "      <th>department_id</th>\n",
       "      <th>1</th>\n",
       "      <th>2</th>\n",
       "      <th>3</th>\n",
       "      <th>4</th>\n",
       "      <th>5</th>\n",
       "      <th>6</th>\n",
       "      <th>7</th>\n",
       "      <th>8</th>\n",
       "      <th>9</th>\n",
       "      <th>10</th>\n",
       "      <th>11</th>\n",
       "      <th>12</th>\n",
       "      <th>13</th>\n",
       "      <th>14</th>\n",
       "      <th>15</th>\n",
       "      <th>16</th>\n",
       "      <th>17</th>\n",
       "      <th>18</th>\n",
       "      <th>19</th>\n",
       "      <th>20</th>\n",
       "      <th>21</th>\n",
       "    </tr>\n",
       "    <tr>\n",
       "      <th>variety_profile</th>\n",
       "      <th></th>\n",
       "      <th></th>\n",
       "      <th></th>\n",
       "      <th></th>\n",
       "      <th></th>\n",
       "      <th></th>\n",
       "      <th></th>\n",
       "      <th></th>\n",
       "      <th></th>\n",
       "      <th></th>\n",
       "      <th></th>\n",
       "      <th></th>\n",
       "      <th></th>\n",
       "      <th></th>\n",
       "      <th></th>\n",
       "      <th></th>\n",
       "      <th></th>\n",
       "      <th></th>\n",
       "      <th></th>\n",
       "      <th></th>\n",
       "      <th></th>\n",
       "    </tr>\n",
       "  </thead>\n",
       "  <tbody>\n",
       "    <tr>\n",
       "      <th>Groceries Only</th>\n",
       "      <td>0.064735</td>\n",
       "      <td>0.000000</td>\n",
       "      <td>0.033414</td>\n",
       "      <td>0.359661</td>\n",
       "      <td>0.006720</td>\n",
       "      <td>0.000000</td>\n",
       "      <td>0.088910</td>\n",
       "      <td>0.000000</td>\n",
       "      <td>0.020601</td>\n",
       "      <td>0.001462</td>\n",
       "      <td>0.000000</td>\n",
       "      <td>0.021633</td>\n",
       "      <td>0.047905</td>\n",
       "      <td>0.021481</td>\n",
       "      <td>0.025718</td>\n",
       "      <td>0.174705</td>\n",
       "      <td>0.000000</td>\n",
       "      <td>0.000000</td>\n",
       "      <td>0.098702</td>\n",
       "      <td>0.034354</td>\n",
       "      <td>0.000000</td>\n",
       "    </tr>\n",
       "    <tr>\n",
       "      <th>Variety Purchases</th>\n",
       "      <td>0.069289</td>\n",
       "      <td>0.001206</td>\n",
       "      <td>0.036394</td>\n",
       "      <td>0.287352</td>\n",
       "      <td>0.004591</td>\n",
       "      <td>0.008949</td>\n",
       "      <td>0.082495</td>\n",
       "      <td>0.003248</td>\n",
       "      <td>0.027217</td>\n",
       "      <td>0.001036</td>\n",
       "      <td>0.014876</td>\n",
       "      <td>0.021896</td>\n",
       "      <td>0.058641</td>\n",
       "      <td>0.021712</td>\n",
       "      <td>0.033518</td>\n",
       "      <td>0.165979</td>\n",
       "      <td>0.024552</td>\n",
       "      <td>0.014086</td>\n",
       "      <td>0.088369</td>\n",
       "      <td>0.032294</td>\n",
       "      <td>0.002298</td>\n",
       "    </tr>\n",
       "  </tbody>\n",
       "</table>\n",
       "</div>"
      ],
      "text/plain": [
       "department_id            1         2         3         4         5         6   \\\n",
       "variety_profile                                                                 \n",
       "Groceries Only     0.064735  0.000000  0.033414  0.359661  0.006720  0.000000   \n",
       "Variety Purchases  0.069289  0.001206  0.036394  0.287352  0.004591  0.008949   \n",
       "\n",
       "department_id            7         8         9         10        11        12  \\\n",
       "variety_profile                                                                 \n",
       "Groceries Only     0.088910  0.000000  0.020601  0.001462  0.000000  0.021633   \n",
       "Variety Purchases  0.082495  0.003248  0.027217  0.001036  0.014876  0.021896   \n",
       "\n",
       "department_id            13        14        15        16        17        18  \\\n",
       "variety_profile                                                                 \n",
       "Groceries Only     0.047905  0.021481  0.025718  0.174705  0.000000  0.000000   \n",
       "Variety Purchases  0.058641  0.021712  0.033518  0.165979  0.024552  0.014086   \n",
       "\n",
       "department_id            19        20        21  \n",
       "variety_profile                                  \n",
       "Groceries Only     0.098702  0.034354  0.000000  \n",
       "Variety Purchases  0.088369  0.032294  0.002298  "
      ]
     },
     "execution_count": 73,
     "metadata": {},
     "output_type": "execute_result"
    }
   ],
   "source": [
    "variety_department_cross"
   ]
  },
  {
   "cell_type": "code",
   "execution_count": 17,
   "id": "1b3a808c-988c-4dac-bd03-d7e12abb5114",
   "metadata": {},
   "outputs": [],
   "source": [
    "#family and region\n",
    "\n",
    "family_region_cross = pd.crosstab(df['family_profile'], df['region'], normalize = 'columns')\n",
    "# normalize = 'columns' gives the column percentages"
   ]
  },
  {
   "cell_type": "code",
   "execution_count": 77,
   "id": "5159d280-64b0-44aa-84de-95dd8a2d02d2",
   "metadata": {},
   "outputs": [
    {
     "data": {
      "text/html": [
       "<div>\n",
       "<style scoped>\n",
       "    .dataframe tbody tr th:only-of-type {\n",
       "        vertical-align: middle;\n",
       "    }\n",
       "\n",
       "    .dataframe tbody tr th {\n",
       "        vertical-align: top;\n",
       "    }\n",
       "\n",
       "    .dataframe thead th {\n",
       "        text-align: right;\n",
       "    }\n",
       "</style>\n",
       "<table border=\"1\" class=\"dataframe\">\n",
       "  <thead>\n",
       "    <tr style=\"text-align: right;\">\n",
       "      <th>region</th>\n",
       "      <th>Midwest</th>\n",
       "      <th>Northeast</th>\n",
       "      <th>South</th>\n",
       "      <th>West</th>\n",
       "    </tr>\n",
       "    <tr>\n",
       "      <th>family_profile</th>\n",
       "      <th></th>\n",
       "      <th></th>\n",
       "      <th></th>\n",
       "      <th></th>\n",
       "    </tr>\n",
       "  </thead>\n",
       "  <tbody>\n",
       "    <tr>\n",
       "      <th>Married no children</th>\n",
       "      <td>0.236932</td>\n",
       "      <td>0.236116</td>\n",
       "      <td>0.229883</td>\n",
       "      <td>0.231373</td>\n",
       "    </tr>\n",
       "    <tr>\n",
       "      <th>Married with children</th>\n",
       "      <td>0.464053</td>\n",
       "      <td>0.469197</td>\n",
       "      <td>0.470703</td>\n",
       "      <td>0.472141</td>\n",
       "    </tr>\n",
       "    <tr>\n",
       "      <th>Single no children</th>\n",
       "      <td>0.250772</td>\n",
       "      <td>0.247836</td>\n",
       "      <td>0.250342</td>\n",
       "      <td>0.249893</td>\n",
       "    </tr>\n",
       "    <tr>\n",
       "      <th>Single with children</th>\n",
       "      <td>0.048243</td>\n",
       "      <td>0.046851</td>\n",
       "      <td>0.049072</td>\n",
       "      <td>0.046593</td>\n",
       "    </tr>\n",
       "  </tbody>\n",
       "</table>\n",
       "</div>"
      ],
      "text/plain": [
       "region                  Midwest  Northeast     South      West\n",
       "family_profile                                                \n",
       "Married no children    0.236932   0.236116  0.229883  0.231373\n",
       "Married with children  0.464053   0.469197  0.470703  0.472141\n",
       "Single no children     0.250772   0.247836  0.250342  0.249893\n",
       "Single with children   0.048243   0.046851  0.049072  0.046593"
      ]
     },
     "execution_count": 77,
     "metadata": {},
     "output_type": "execute_result"
    }
   ],
   "source": [
    "family_region_cross"
   ]
  },
  {
   "cell_type": "code",
   "execution_count": 74,
   "id": "22806e9b-c5b3-4572-93c9-4c18b4df0a16",
   "metadata": {},
   "outputs": [],
   "source": [
    "#family and departments\n",
    "\n",
    "family_department_cross = pd.crosstab(df['family_profile'], df['department_id'], normalize = 'index')\n",
    "# normalize = 'index' gives row percentages"
   ]
  },
  {
   "cell_type": "code",
   "execution_count": 75,
   "id": "c042c9cd-8ac5-44df-8d28-b5d062e65148",
   "metadata": {},
   "outputs": [
    {
     "data": {
      "text/html": [
       "<div>\n",
       "<style scoped>\n",
       "    .dataframe tbody tr th:only-of-type {\n",
       "        vertical-align: middle;\n",
       "    }\n",
       "\n",
       "    .dataframe tbody tr th {\n",
       "        vertical-align: top;\n",
       "    }\n",
       "\n",
       "    .dataframe thead th {\n",
       "        text-align: right;\n",
       "    }\n",
       "</style>\n",
       "<table border=\"1\" class=\"dataframe\">\n",
       "  <thead>\n",
       "    <tr style=\"text-align: right;\">\n",
       "      <th>department_id</th>\n",
       "      <th>1</th>\n",
       "      <th>2</th>\n",
       "      <th>3</th>\n",
       "      <th>4</th>\n",
       "      <th>5</th>\n",
       "      <th>6</th>\n",
       "      <th>7</th>\n",
       "      <th>8</th>\n",
       "      <th>9</th>\n",
       "      <th>10</th>\n",
       "      <th>11</th>\n",
       "      <th>12</th>\n",
       "      <th>13</th>\n",
       "      <th>14</th>\n",
       "      <th>15</th>\n",
       "      <th>16</th>\n",
       "      <th>17</th>\n",
       "      <th>18</th>\n",
       "      <th>19</th>\n",
       "      <th>20</th>\n",
       "      <th>21</th>\n",
       "    </tr>\n",
       "    <tr>\n",
       "      <th>family_profile</th>\n",
       "      <th></th>\n",
       "      <th></th>\n",
       "      <th></th>\n",
       "      <th></th>\n",
       "      <th></th>\n",
       "      <th></th>\n",
       "      <th></th>\n",
       "      <th></th>\n",
       "      <th></th>\n",
       "      <th></th>\n",
       "      <th></th>\n",
       "      <th></th>\n",
       "      <th></th>\n",
       "      <th></th>\n",
       "      <th></th>\n",
       "      <th></th>\n",
       "      <th></th>\n",
       "      <th></th>\n",
       "      <th></th>\n",
       "      <th></th>\n",
       "      <th></th>\n",
       "    </tr>\n",
       "  </thead>\n",
       "  <tbody>\n",
       "    <tr>\n",
       "      <th>Married no children</th>\n",
       "      <td>0.068501</td>\n",
       "      <td>0.001134</td>\n",
       "      <td>0.036290</td>\n",
       "      <td>0.292094</td>\n",
       "      <td>0.004674</td>\n",
       "      <td>0.008405</td>\n",
       "      <td>0.082844</td>\n",
       "      <td>0.002980</td>\n",
       "      <td>0.026714</td>\n",
       "      <td>0.001107</td>\n",
       "      <td>0.013833</td>\n",
       "      <td>0.022041</td>\n",
       "      <td>0.058145</td>\n",
       "      <td>0.021909</td>\n",
       "      <td>0.033025</td>\n",
       "      <td>0.167336</td>\n",
       "      <td>0.022995</td>\n",
       "      <td>0.012703</td>\n",
       "      <td>0.089014</td>\n",
       "      <td>0.032144</td>\n",
       "      <td>0.002111</td>\n",
       "    </tr>\n",
       "    <tr>\n",
       "      <th>Married with children</th>\n",
       "      <td>0.069171</td>\n",
       "      <td>0.001094</td>\n",
       "      <td>0.036029</td>\n",
       "      <td>0.292561</td>\n",
       "      <td>0.004629</td>\n",
       "      <td>0.008221</td>\n",
       "      <td>0.083094</td>\n",
       "      <td>0.002960</td>\n",
       "      <td>0.026828</td>\n",
       "      <td>0.001070</td>\n",
       "      <td>0.013798</td>\n",
       "      <td>0.021994</td>\n",
       "      <td>0.057826</td>\n",
       "      <td>0.021590</td>\n",
       "      <td>0.033057</td>\n",
       "      <td>0.166058</td>\n",
       "      <td>0.022954</td>\n",
       "      <td>0.013235</td>\n",
       "      <td>0.089272</td>\n",
       "      <td>0.032420</td>\n",
       "      <td>0.002140</td>\n",
       "    </tr>\n",
       "    <tr>\n",
       "      <th>Single no children</th>\n",
       "      <td>0.068806</td>\n",
       "      <td>0.001133</td>\n",
       "      <td>0.036358</td>\n",
       "      <td>0.293355</td>\n",
       "      <td>0.004831</td>\n",
       "      <td>0.008362</td>\n",
       "      <td>0.083290</td>\n",
       "      <td>0.003036</td>\n",
       "      <td>0.026584</td>\n",
       "      <td>0.001022</td>\n",
       "      <td>0.013832</td>\n",
       "      <td>0.021498</td>\n",
       "      <td>0.057642</td>\n",
       "      <td>0.021559</td>\n",
       "      <td>0.032706</td>\n",
       "      <td>0.166639</td>\n",
       "      <td>0.022325</td>\n",
       "      <td>0.013151</td>\n",
       "      <td>0.089015</td>\n",
       "      <td>0.032744</td>\n",
       "      <td>0.002110</td>\n",
       "    </tr>\n",
       "    <tr>\n",
       "      <th>Single with children</th>\n",
       "      <td>0.069994</td>\n",
       "      <td>0.001232</td>\n",
       "      <td>0.036207</td>\n",
       "      <td>0.289970</td>\n",
       "      <td>0.005737</td>\n",
       "      <td>0.008432</td>\n",
       "      <td>0.080375</td>\n",
       "      <td>0.003624</td>\n",
       "      <td>0.026894</td>\n",
       "      <td>0.001080</td>\n",
       "      <td>0.013744</td>\n",
       "      <td>0.021915</td>\n",
       "      <td>0.058217</td>\n",
       "      <td>0.022398</td>\n",
       "      <td>0.033013</td>\n",
       "      <td>0.168184</td>\n",
       "      <td>0.022718</td>\n",
       "      <td>0.012992</td>\n",
       "      <td>0.088458</td>\n",
       "      <td>0.032513</td>\n",
       "      <td>0.002303</td>\n",
       "    </tr>\n",
       "  </tbody>\n",
       "</table>\n",
       "</div>"
      ],
      "text/plain": [
       "department_id                1         2         3         4         5   \\\n",
       "family_profile                                                            \n",
       "Married no children    0.068501  0.001134  0.036290  0.292094  0.004674   \n",
       "Married with children  0.069171  0.001094  0.036029  0.292561  0.004629   \n",
       "Single no children     0.068806  0.001133  0.036358  0.293355  0.004831   \n",
       "Single with children   0.069994  0.001232  0.036207  0.289970  0.005737   \n",
       "\n",
       "department_id                6         7         8         9         10  \\\n",
       "family_profile                                                            \n",
       "Married no children    0.008405  0.082844  0.002980  0.026714  0.001107   \n",
       "Married with children  0.008221  0.083094  0.002960  0.026828  0.001070   \n",
       "Single no children     0.008362  0.083290  0.003036  0.026584  0.001022   \n",
       "Single with children   0.008432  0.080375  0.003624  0.026894  0.001080   \n",
       "\n",
       "department_id                11        12        13        14        15  \\\n",
       "family_profile                                                            \n",
       "Married no children    0.013833  0.022041  0.058145  0.021909  0.033025   \n",
       "Married with children  0.013798  0.021994  0.057826  0.021590  0.033057   \n",
       "Single no children     0.013832  0.021498  0.057642  0.021559  0.032706   \n",
       "Single with children   0.013744  0.021915  0.058217  0.022398  0.033013   \n",
       "\n",
       "department_id                16        17        18        19        20  \\\n",
       "family_profile                                                            \n",
       "Married no children    0.167336  0.022995  0.012703  0.089014  0.032144   \n",
       "Married with children  0.166058  0.022954  0.013235  0.089272  0.032420   \n",
       "Single no children     0.166639  0.022325  0.013151  0.089015  0.032744   \n",
       "Single with children   0.168184  0.022718  0.012992  0.088458  0.032513   \n",
       "\n",
       "department_id                21  \n",
       "family_profile                   \n",
       "Married no children    0.002111  \n",
       "Married with children  0.002140  \n",
       "Single no children     0.002110  \n",
       "Single with children   0.002303  "
      ]
     },
     "execution_count": 75,
     "metadata": {},
     "output_type": "execute_result"
    }
   ],
   "source": [
    "family_department_cross"
   ]
  },
  {
   "cell_type": "markdown",
   "id": "2942388d-dccf-4292-83e8-d17f3a71278a",
   "metadata": {
    "tags": []
   },
   "source": [
    "### Step 9 Creating visualizations for previous comparisons"
   ]
  },
  {
   "cell_type": "markdown",
   "id": "dc5f6f40-ea78-4d4b-b45a-821b0a6d8e22",
   "metadata": {},
   "source": [
    "#### Profiles x regions"
   ]
  },
  {
   "cell_type": "code",
   "execution_count": 78,
   "id": "bb6b487c-8f00-4c9a-936f-551d1487d5d3",
   "metadata": {},
   "outputs": [
    {
     "data": {
      "image/png": "[encoded data removed]",
      "text/plain": [
       "<Figure size 640x480 with 1 Axes>"
      ]
     },
     "metadata": {},
     "output_type": "display_data"
    }
   ],
   "source": [
    "# age_profile by region\n",
    "\n",
    "age_region_bar = age_region_cross.plot.bar(rot=0)"
   ]
  },
  {
   "cell_type": "code",
   "execution_count": 79,
   "id": "5c9f5f73-5a48-4c37-9ecf-668bddf412ef",
   "metadata": {},
   "outputs": [],
   "source": [
    "# Exporting \n",
    "\n",
    "age_region_bar.figure.savefig(os.path.join(path, '04 Analysis', 'Visualizations', 'age_region_bar.png'))"
   ]
  },
  {
   "cell_type": "code",
   "execution_count": 80,
   "id": "a89c624d-a082-4a77-a9d6-574df3ae248d",
   "metadata": {},
   "outputs": [
    {
     "data": {
      "image/png": "[encoded data removed]",
      "text/plain": [
       "<Figure size 640x480 with 1 Axes>"
      ]
     },
     "metadata": {},
     "output_type": "display_data"
    }
   ],
   "source": [
    "# income_profile by region\n",
    "\n",
    "income_region_bar = income_region_cross.plot.bar(rot=0)"
   ]
  },
  {
   "cell_type": "code",
   "execution_count": 81,
   "id": "e98a3ce4-a73f-486b-85d2-8889f0f531c2",
   "metadata": {},
   "outputs": [],
   "source": [
    "# Exporting \n",
    "\n",
    "income_region_bar.figure.savefig(os.path.join(path, '04 Analysis', 'Visualizations', 'income_region_bar.png'))"
   ]
  },
  {
   "cell_type": "code",
   "execution_count": 82,
   "id": "215dda26-41c5-4db7-a8ca-d1be4e4acff5",
   "metadata": {},
   "outputs": [
    {
     "data": {
      "image/png": "[encoded data removed]",
      "text/plain": [
       "<Figure size 640x480 with 1 Axes>"
      ]
     },
     "metadata": {},
     "output_type": "display_data"
    }
   ],
   "source": [
    "# vegan_profile by region\n",
    "\n",
    "vegan_region_bar = vegan_region_cross.plot.bar(rot=0)"
   ]
  },
  {
   "cell_type": "code",
   "execution_count": 83,
   "id": "b305b91b-cb87-45c3-bae1-21c0270cda3d",
   "metadata": {},
   "outputs": [
    {
     "data": {
      "image/png": "[encoded data removed]",
      "text/plain": [
       "<Figure size 640x480 with 1 Axes>"
      ]
     },
     "metadata": {},
     "output_type": "display_data"
    }
   ],
   "source": [
    "# vegan_profile by region\n",
    "\n",
    "vegan_region_bar = vegan_region_cross.plot.bar(rot=0)"
   ]
  },
  {
   "cell_type": "code",
   "execution_count": 84,
   "id": "6fe66d73-8f0f-4db5-98a2-f679f7d29dc5",
   "metadata": {},
   "outputs": [],
   "source": [
    "# Exporting\n",
    "\n",
    "vegan_region_bar.figure.savefig(os.path.join(path, '04 Analysis', 'Visualizations', 'vegan_region_bar.png'))"
   ]
  },
  {
   "cell_type": "code",
   "execution_count": 85,
   "id": "f2e2e4d6-aa0f-4192-95e9-4505dc707719",
   "metadata": {},
   "outputs": [
    {
     "data": {
      "image/png": "[encoded data removed]",
      "text/plain": [
       "<Figure size 640x480 with 1 Axes>"
      ]
     },
     "metadata": {},
     "output_type": "display_data"
    }
   ],
   "source": [
    "# variety_profile by region\n",
    "\n",
    "variety_region_bar = variety_region_cross.plot.bar(rot=0)"
   ]
  },
  {
   "cell_type": "code",
   "execution_count": 86,
   "id": "393e875a-521a-4df3-b115-48a4e655ebeb",
   "metadata": {},
   "outputs": [],
   "source": [
    "# Exporting \n",
    "\n",
    "variety_region_bar.figure.savefig(os.path.join(path, '04 Analysis', 'Visualizations', 'variety_region_bar.png'))"
   ]
  },
  {
   "cell_type": "code",
   "execution_count": 18,
   "id": "66701d56-6c7e-4e79-bce7-c4ac0beb34fe",
   "metadata": {},
   "outputs": [
    {
     "data": {
      "image/png": "[encoded data removed]",
      "text/plain": [
       "<Figure size 640x480 with 1 Axes>"
      ]
     },
     "metadata": {},
     "output_type": "display_data"
    }
   ],
   "source": [
    "# family_profile by region\n",
    "\n",
    "family_region_bar = family_region_cross.plot.bar()\n",
    "plt.xticks(rotation=45, ha='right', fontsize=10)\n",
    "plt.tight_layout()"
   ]
  },
  {
   "cell_type": "code",
   "execution_count": 19,
   "id": "56f3c398-8049-44e1-84bb-2245e1f2833b",
   "metadata": {},
   "outputs": [],
   "source": [
    "# Exporting \n",
    "\n",
    "family_region_bar.figure.savefig(os.path.join(path, '04 Analysis', 'Visualizations', 'family_region_bar.png'))"
   ]
  },
  {
   "cell_type": "markdown",
   "id": "d7f724e8-3fe3-4b4e-bfae-1d6d23dc1a4b",
   "metadata": {},
   "source": [
    "##### Profiles x departments"
   ]
  },
  {
   "cell_type": "code",
   "execution_count": 89,
   "id": "ee654ed0-962c-4a43-a73f-65fa6a428d0a",
   "metadata": {},
   "outputs": [],
   "source": [
    "# Creating a new crosstab so that the departments are on the x-axis\n",
    "\n",
    "age_department_cros = pd.crosstab(df['department_id'], df['age_profile'])"
   ]
  },
  {
   "cell_type": "code",
   "execution_count": 90,
   "id": "7cbc4450-9a0e-4bb4-a691-9ec6152d762d",
   "metadata": {},
   "outputs": [
    {
     "data": {
      "image/png": "[encoded data removed]",
      "text/plain": [
       "<Figure size 640x480 with 1 Axes>"
      ]
     },
     "metadata": {},
     "output_type": "display_data"
    }
   ],
   "source": [
    "# Creating a stacked bar plot of the new crosstab\n",
    "\n",
    "age_department_bar = age_department_cros.plot.bar(stacked = True)"
   ]
  },
  {
   "cell_type": "code",
   "execution_count": 91,
   "id": "1608b47c-5716-4b47-9785-5b1ebb6e2772",
   "metadata": {},
   "outputs": [],
   "source": [
    "# Exporting \n",
    "\n",
    "age_department_bar.figure.savefig(os.path.join(path, '04 Analysis', 'Visualizations', 'age_department_bar.png'))"
   ]
  },
  {
   "cell_type": "code",
   "execution_count": 92,
   "id": "9583cbfd-f3df-4318-ab99-2d1b36cc281a",
   "metadata": {},
   "outputs": [],
   "source": [
    "# Creating a new crosstab so that the departments are on the x-axis\n",
    "\n",
    "income_department_cros = pd.crosstab(df['department_id'], df['income_profile'])"
   ]
  },
  {
   "cell_type": "code",
   "execution_count": 93,
   "id": "e55ed73a-deca-4e5d-a52a-8defd5f887bf",
   "metadata": {},
   "outputs": [
    {
     "data": {
      "image/png": "[encoded data removed]",
      "text/plain": [
       "<Figure size 640x480 with 1 Axes>"
      ]
     },
     "metadata": {},
     "output_type": "display_data"
    }
   ],
   "source": [
    "# Creating a stacked bar plot of the new crosstab\n",
    "\n",
    "income_department_bar = income_department_cros.plot.bar(stacked = True)"
   ]
  },
  {
   "cell_type": "code",
   "execution_count": 94,
   "id": "9ec058f5-76ad-4ea8-8229-9cd878bf6386",
   "metadata": {},
   "outputs": [],
   "source": [
    "# Exporting \n",
    "\n",
    "income_department_bar.figure.savefig(os.path.join(path, '04 Analysis', 'Visualizations', 'income_department_bar.png'))"
   ]
  },
  {
   "cell_type": "code",
   "execution_count": 95,
   "id": "f63e6fa0-d621-41f6-9b7c-d46151bc08b5",
   "metadata": {},
   "outputs": [],
   "source": [
    "# Creating a new crosstab so that the departments are on the x-axis\n",
    "\n",
    "vegan_department_cros = pd.crosstab(df['department_id'], df['vegan_profile'])"
   ]
  },
  {
   "cell_type": "code",
   "execution_count": 96,
   "id": "806fef7c-c3a2-4132-9966-3eb0f420adcb",
   "metadata": {},
   "outputs": [
    {
     "data": {
      "image/png": "[encoded data removed]",
      "text/plain": [
       "<Figure size 640x480 with 1 Axes>"
      ]
     },
     "metadata": {},
     "output_type": "display_data"
    }
   ],
   "source": [
    "# Creating a stacked bar plot of the new crosstab\n",
    "\n",
    "vegan_department_bar = vegan_department_cros.plot.bar(stacked = True)"
   ]
  },
  {
   "cell_type": "code",
   "execution_count": 97,
   "id": "e23c99d8-9c09-4465-88f5-8647a21405ff",
   "metadata": {},
   "outputs": [],
   "source": [
    "# Exporting\n",
    "\n",
    "vegan_department_bar.figure.savefig(os.path.join(path, '04 Analysis', 'Visualizations', 'vegan_department_bar.png'))"
   ]
  },
  {
   "cell_type": "code",
   "execution_count": 98,
   "id": "66c2f752-cb89-4bd4-a953-8021ce34cb87",
   "metadata": {},
   "outputs": [],
   "source": [
    "# Creating a new crosstab so that the departments are on the x-axis\n",
    "\n",
    "variety_department_cros = pd.crosstab(df['department_id'], df['variety_profile'])"
   ]
  },
  {
   "cell_type": "code",
   "execution_count": 99,
   "id": "ef485fe2-5b8d-4309-91bf-aa4b4195b665",
   "metadata": {},
   "outputs": [
    {
     "data": {
      "image/png": "[encoded data removed]",
      "text/plain": [
       "<Figure size 640x480 with 1 Axes>"
      ]
     },
     "metadata": {},
     "output_type": "display_data"
    }
   ],
   "source": [
    "# Creating a stacked bar plot of the new crosstab\n",
    "\n",
    "variety_department_bar = variety_department_cros.plot.bar(stacked = True)"
   ]
  },
  {
   "cell_type": "code",
   "execution_count": 100,
   "id": "fa9fd5f0-84cf-420a-a743-b19c6ec31b25",
   "metadata": {},
   "outputs": [],
   "source": [
    "# Exporting \n",
    "\n",
    "variety_department_bar.figure.savefig(os.path.join(path, '04 Analysis', 'Visualizations', 'variety_department_bar.png'))"
   ]
  },
  {
   "cell_type": "code",
   "execution_count": 101,
   "id": "71d6c765-efd6-49a5-b249-091af5f61c3e",
   "metadata": {},
   "outputs": [],
   "source": [
    "# Creating a new crosstab so that the departments are on the x-axis\n",
    "\n",
    "family_department_cros = pd.crosstab(df['department_id'], df['family_profile'])"
   ]
  },
  {
   "cell_type": "code",
   "execution_count": 102,
   "id": "e4fd2637-1910-4ad9-bf6e-ed356a5bd6f9",
   "metadata": {},
   "outputs": [
    {
     "data": {
      "image/png": "[encoded data removed]",
      "text/plain": [
       "<Figure size 640x480 with 1 Axes>"
      ]
     },
     "metadata": {},
     "output_type": "display_data"
    }
   ],
   "source": [
    "# Creating a stacked bar plot of the new crosstab\n",
    "\n",
    "family_department_bar = family_department_cros.plot.bar(stacked = True)"
   ]
  },
  {
   "cell_type": "markdown",
   "id": "9916c72a-4a8a-45d0-9dd1-f628f008e167",
   "metadata": {},
   "source": [
    "### Extra Functions aimed at answering project questions and deliverables"
   ]
  },
  {
   "cell_type": "code",
   "execution_count": 10,
   "id": "18bd9710-cb3f-4dc9-9265-9d343d6b3bb5",
   "metadata": {},
   "outputs": [
    {
     "data": {
      "image/png": "[encoded data removed]",
      "text/plain": [
       "<Figure size 640x480 with 1 Axes>"
      ]
     },
     "metadata": {},
     "output_type": "display_data"
    }
   ],
   "source": [
    "# Frequency of department chart\n",
    "\n",
    "dept_freq_bar = df['department_id'].value_counts().plot.bar(rot=0)"
   ]
  },
  {
   "cell_type": "code",
   "execution_count": 11,
   "id": "843739f5-0959-4cad-8ae8-1ee117ce22fa",
   "metadata": {},
   "outputs": [],
   "source": [
    "dept_freq_bar.figure.savefig(os.path.join(path, '04 Analysis', 'Visualizations', 'dept_freq_bar.png'))"
   ]
  },
  {
   "cell_type": "code",
   "execution_count": 12,
   "id": "ec178a38-db4d-4225-a41a-1cf655d8e133",
   "metadata": {},
   "outputs": [
    {
     "data": {
      "image/png": "[encoded data removed]",
      "text/plain": [
       "<Figure size 640x480 with 1 Axes>"
      ]
     },
     "metadata": {},
     "output_type": "display_data"
    }
   ],
   "source": [
    "spender_bar = df['spending_flag'].value_counts().plot.bar(rot=0)"
   ]
  },
  {
   "cell_type": "code",
   "execution_count": 13,
   "id": "9bff214b-7bc0-493f-83b3-432bebd104a3",
   "metadata": {},
   "outputs": [],
   "source": [
    "spender_bar.figure.savefig(os.path.join(path, '04 Analysis', 'Visualizations', 'spender_bar.png'))"
   ]
  },
  {
   "cell_type": "code",
   "execution_count": 15,
   "id": "78dc94a1-4ce2-4502-a11e-6a16d50a26c0",
   "metadata": {},
   "outputs": [
    {
     "data": {
      "image/png": "[encoded data removed]",
      "text/plain": [
       "<Figure size 640x480 with 1 Axes>"
      ]
     },
     "metadata": {},
     "output_type": "display_data"
    }
   ],
   "source": [
    "loyalty_flag_bar = df['loyalty_flag'].value_counts().plot.bar(rot=0)\n",
    "plt.xticks(rotation=45, ha='right', fontsize=10)\n",
    "plt.tight_layout()"
   ]
  },
  {
   "cell_type": "code",
   "execution_count": 16,
   "id": "ad9b3d36-a37a-48e5-939b-ad0b808b1263",
   "metadata": {},
   "outputs": [],
   "source": [
    "loyalty_flag_bar.figure.savefig(os.path.join(path, '04 Analysis', 'Visualizations', 'loyalty_bar.png'))"
   ]
  },
  {
   "cell_type": "code",
   "execution_count": null,
   "id": "db2e08e5-7976-4e2d-ac4c-a57afbea4edb",
   "metadata": {},
   "outputs": [],
   "source": []
  },
  {
   "cell_type": "code",
   "execution_count": null,
   "id": "a7435634-3c4a-4684-bc1e-bed347704c6e",
   "metadata": {},
   "outputs": [],
   "source": []
  },
  {
   "cell_type": "code",
   "execution_count": null,
   "id": "00abfa4b-d6f8-4029-8149-d29f4f5185ee",
   "metadata": {},
   "outputs": [],
   "source": []
  },
  {
   "cell_type": "code",
   "execution_count": null,
   "id": "2d4bdf64-dfae-4731-b3c4-cdafc6eb1287",
   "metadata": {},
   "outputs": [],
   "source": []
  },
  {
   "cell_type": "code",
   "execution_count": null,
   "id": "91d37bf5-db6a-4c07-85c2-69ad246c3af0",
   "metadata": {},
   "outputs": [],
   "source": []
  },
  {
   "cell_type": "code",
   "execution_count": null,
   "id": "4f265ad9-65be-4322-a557-b0ad4848b444",
   "metadata": {},
   "outputs": [],
   "source": []
  },
  {
   "cell_type": "code",
   "execution_count": null,
   "id": "25418f84-ea8d-4fa1-927b-3a0069f30a99",
   "metadata": {},
   "outputs": [],
   "source": []
  },
  {
   "cell_type": "code",
   "execution_count": 103,
   "id": "a8d0daaa-8914-47b5-abe8-a35cd90d1f53",
   "metadata": {},
   "outputs": [],
   "source": [
    "# Exporting \n",
    "\n",
    "family_department_bar.figure.savefig(os.path.join(path, '04 Analysis', 'Visualizations', 'family_department_bar.png'))"
   ]
  },
  {
   "cell_type": "code",
   "execution_count": 104,
   "id": "0d385ef7-42b8-4e3c-8bfa-e4ff3227e44c",
   "metadata": {},
   "outputs": [],
   "source": [
    "#exporting the final dataset\n",
    "\n",
    "df.to_pickle(os.path.join(path, '02 Data','Prepared Data', 'df_combined.pkl'))"
   ]
  },
  {
   "cell_type": "code",
   "execution_count": null,
   "id": "93319dec-85e2-48d5-97f8-6f3fd55b4e7a",
   "metadata": {},
   "outputs": [],
   "source": []
  }
 ],
 "metadata": {
  "kernelspec": {
   "display_name": "Python 3 (ipykernel)",
   "language": "python",
   "name": "python3"
  },
  "language_info": {
   "codemirror_mode": {
    "name": "ipython",
    "version": 3
   },
   "file_extension": ".py",
   "mimetype": "text/x-python",
   "name": "python",
   "nbconvert_exporter": "python",
   "pygments_lexer": "ipython3",
   "version": "3.10.9"
  }
 },
 "nbformat": 4,
 "nbformat_minor": 5
}
