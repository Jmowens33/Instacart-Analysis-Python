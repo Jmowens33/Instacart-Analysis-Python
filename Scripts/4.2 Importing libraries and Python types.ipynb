{
 "cells": [
  {
   "cell_type": "markdown",
   "id": "5a206550-4d1f-4ef6-af74-8c21f5885bc2",
   "metadata": {},
   "source": [
    "# 01. Importing Libraries"
   ]
  },
  {
   "cell_type": "code",
   "execution_count": 1,
   "id": "30319e5f-57f7-487c-97cd-d03ee9c12dbb",
   "metadata": {},
   "outputs": [],
   "source": [
    "# Importing libraries\n",
    "import pandas as pd\n",
    "import numpy as np\n",
    "import os"
   ]
  },
  {
   "cell_type": "markdown",
   "id": "42f82217-fc8b-49be-af62-8e25da33b812",
   "metadata": {},
   "source": [
    "# 02. Exploring Data types"
   ]
  },
  {
   "cell_type": "code",
   "execution_count": 4,
   "id": "4ee55a9b-69df-4b9f-8857-6706fa6a4a9d",
   "metadata": {},
   "outputs": [
    {
     "data": {
      "text/plain": [
       "100"
      ]
     },
     "execution_count": 4,
     "metadata": {},
     "output_type": "execute_result"
    }
   ],
   "source": [
    "x = 99\n",
    "y = 1\n",
    "x+y"
   ]
  },
  {
   "cell_type": "code",
   "execution_count": 5,
   "id": "303a2be4-487c-4f6b-9be3-656fe44778e9",
   "metadata": {},
   "outputs": [
    {
     "data": {
      "text/plain": [
       "100"
      ]
     },
     "execution_count": 5,
     "metadata": {},
     "output_type": "execute_result"
    }
   ],
   "source": [
    "x = 100\n",
    "y = 0\n",
    "x+y"
   ]
  },
  {
   "cell_type": "code",
   "execution_count": 7,
   "id": "ed7c23f4-8355-4cfc-8095-be046eff711a",
   "metadata": {},
   "outputs": [
    {
     "data": {
      "text/plain": [
       "100"
      ]
     },
     "execution_count": 7,
     "metadata": {},
     "output_type": "execute_result"
    }
   ],
   "source": [
    "x = 42\n",
    "y = 58\n",
    "x+y"
   ]
  },
  {
   "cell_type": "code",
   "execution_count": 8,
   "id": "1c254c53-bffc-4fb2-96af-a08eac9050a1",
   "metadata": {},
   "outputs": [
    {
     "data": {
      "text/plain": [
       "15.302966987045549"
      ]
     },
     "execution_count": 8,
     "metadata": {},
     "output_type": "execute_result"
    }
   ],
   "source": [
    "x = 73.24\n",
    "y = 4.786\n",
    "x/y"
   ]
  },
  {
   "cell_type": "code",
   "execution_count": 10,
   "id": "ef8e106b-0ef7-404a-90b7-addaceb0dc43",
   "metadata": {},
   "outputs": [
    {
     "data": {
      "text/plain": [
       "'impressive'"
      ]
     },
     "execution_count": 10,
     "metadata": {},
     "output_type": "execute_result"
    }
   ],
   "source": [
    "x = 'impre'\n",
    "y = 'ss'\n",
    "z = 'ive'\n",
    "x+y+z"
   ]
  },
  {
   "cell_type": "code",
   "execution_count": 11,
   "id": "3ae144c4-53b9-4725-a844-da963f3a4a99",
   "metadata": {},
   "outputs": [
    {
     "data": {
      "text/plain": [
       "'This is the first short sentence. Of course, this is the second short sentence.'"
      ]
     },
     "execution_count": 11,
     "metadata": {},
     "output_type": "execute_result"
    }
   ],
   "source": [
    "x = 'This is the first short sentence. '\n",
    "y = 'Of course, this is the second short sentence.'\n",
    "x+y"
   ]
  }
 ],
 "metadata": {
  "kernelspec": {
   "display_name": "Python 3 (ipykernel)",
   "language": "python",
   "name": "python3"
  },
  "language_info": {
   "codemirror_mode": {
    "name": "ipython",
    "version": 3
   },
   "file_extension": ".py",
   "mimetype": "text/x-python",
   "name": "python",
   "nbconvert_exporter": "python",
   "pygments_lexer": "ipython3",
   "version": "3.10.9"
  }
 },
 "nbformat": 4,
 "nbformat_minor": 5
}
